{
 "cells": [
  {
   "cell_type": "code",
   "execution_count": null,
   "metadata": {},
   "outputs": [],
   "source": [
    "%gui qt5\n",
    "\n",
    "import napari_gui as gui\n",
    "from skimage import data\n",
    "import numpy as np"
   ]
  },
  {
   "cell_type": "code",
   "execution_count": null,
   "metadata": {},
   "outputs": [],
   "source": [
    "# Create a list of marker coords\n",
    "marker_list = np.array([[50, 30, 0, 0, 0],\n",
    "                        [20, 20, 0, 0, 0],\n",
    "                        [40, 90, 0, 0, 0],\n",
    "                        [50, 40, 1, 1, 1],\n",
    "                        [70, 30, 4, 2, 1]])\n",
    "\n",
    "# Create the layer with markers\n",
    "viewer = gui.scatter(marker_list)"
   ]
  },
  {
   "cell_type": "code",
   "execution_count": null,
   "metadata": {},
   "outputs": [],
   "source": [
    "# Create a viewer with a random 5D image (e.g., [x, y, z, c, t])\n",
    "viewer.add_image(np.random.rand(500, 500, 5, 3, 2))\n",
    "viewer.layers.swap(0, 1)"
   ]
  },
  {
   "cell_type": "code",
   "execution_count": null,
   "metadata": {},
   "outputs": [],
   "source": [
    "# We can also change the marker styling by updating the layer properties\n",
    "viewer.layers[1].size = np.array([20, 20, 20, 5, 5])\n",
    "viewer.layers[1].symbol= '+'"
   ]
  },
  {
   "cell_type": "code",
   "execution_count": null,
   "metadata": {},
   "outputs": [],
   "source": [
    "# Sizes can also be set with lists\n",
    "viewer.layers[1].size = [10, 10, 10, 5, 5]"
   ]
  },
  {
   "cell_type": "code",
   "execution_count": null,
   "metadata": {},
   "outputs": [],
   "source": [
    "# We can update the marker coordinates via the data property\n",
    "marker_list2 = np.array([[400, 30, 0, 0, 0],\n",
    "                        [75, 200, 0, 0, 0],\n",
    "                        [33, 90, 0, 0, 0],\n",
    "                        [99, 40, 1, 1, 1],\n",
    "                        [50, 30, 4, 2, 1]])\n",
    "viewer.layers[1].data = marker_list2"
   ]
  },
  {
   "cell_type": "code",
   "execution_count": null,
   "metadata": {},
   "outputs": [],
   "source": [
    "# Similarly, we can update the marker coordinates via the coords property\n",
    "marker_list3 = np.array([[50, 30, 0, 0, 0],\n",
    "                        [10, 200, 0, 0, 0],\n",
    "                        [33, 90, 0, 0, 0],\n",
    "                        [99, 40, 1, 1, 1],\n",
    "                        [50, 30, 4, 2, 1]])\n",
    "\n",
    "viewer.layers[1].coords = marker_list3"
   ]
  },
  {
   "cell_type": "code",
   "execution_count": null,
   "metadata": {},
   "outputs": [],
   "source": []
  }
 ],
 "metadata": {
  "kernelspec": {
   "display_name": "Python [conda env:napari-gui]",
   "language": "python",
   "name": "conda-env-napari-gui-py"
  },
  "language_info": {
   "codemirror_mode": {
    "name": "ipython",
    "version": 3
   },
   "file_extension": ".py",
   "mimetype": "text/x-python",
   "name": "python",
   "nbconvert_exporter": "python",
   "pygments_lexer": "ipython3",
   "version": "3.7.2"
  }
 },
 "nbformat": 4,
 "nbformat_minor": 2
}

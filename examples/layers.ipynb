{
 "cells": [
  {
   "cell_type": "markdown",
   "metadata": {},
   "source": [
    "# Setup"
   ]
  },
  {
   "cell_type": "code",
   "execution_count": 1,
   "metadata": {},
   "outputs": [],
   "source": [
    "%gui qt5\n",
    "\n",
    "from skimage import data\n",
    "from skimage.color import rgb2gray\n",
    "from numpy import array, random"
   ]
  },
  {
   "cell_type": "markdown",
   "metadata": {},
   "source": [
    "## Display a single image "
   ]
  },
  {
   "cell_type": "code",
   "execution_count": 2,
   "metadata": {
    "scrolled": true
   },
   "outputs": [
    {
     "name": "stderr",
     "output_type": "stream",
     "text": [
      "/Users/nicholassofroniew/anaconda3/lib/python3.6/site-packages/vispy/visuals/isocurve.py:22: UserWarning: VisPy is not yet compatible with matplotlib 2.2+\n",
      "  warnings.warn(\"VisPy is not yet compatible with matplotlib 2.2+\")\n"
     ]
    }
   ],
   "source": [
    "from napari_gui import imshow\n",
    "window = imshow(data.camera())"
   ]
  },
  {
   "cell_type": "markdown",
   "metadata": {},
   "source": [
    "### Add a new image layer"
   ]
  },
  {
   "cell_type": "code",
   "execution_count": 3,
   "metadata": {},
   "outputs": [
    {
     "data": {
      "text/plain": [
       "<napari_gui.layers._image_layer.Image at 0x126f1b710>"
      ]
     },
     "execution_count": 3,
     "metadata": {},
     "output_type": "execute_result"
    }
   ],
   "source": [
    "window.viewer.add_image(rgb2gray(data.astronaut()),{})"
   ]
  },
  {
   "cell_type": "markdown",
   "metadata": {},
   "source": [
    "### Add lines layer"
   ]
  },
  {
   "cell_type": "code",
   "execution_count": 4,
   "metadata": {},
   "outputs": [
    {
     "data": {
      "text/plain": [
       "<napari_gui.layers._lines_layer.Lines at 0x127f46d68>"
      ]
     },
     "execution_count": 4,
     "metadata": {},
     "output_type": "execute_result"
    }
   ],
   "source": [
    "corner_list = array([[[200, 200], [50, 150]], [[300, 100], [400, 400]], [[100, 100], [110, 110]]])\n",
    "window.viewer.add_lines(corner_list, edge_color='blue', vertex_color=None)"
   ]
  },
  {
   "cell_type": "code",
   "execution_count": 5,
   "metadata": {},
   "outputs": [
    {
     "data": {
      "text/plain": [
       "1"
      ]
     },
     "execution_count": 5,
     "metadata": {},
     "output_type": "execute_result"
    },
    {
     "name": "stderr",
     "output_type": "stream",
     "text": [
      "WARNING: Error drawing visual <vispy.visuals.line.line._GLLineVisual object at 0x127f940f0>\n",
      "WARNING: Traceback (most recent call last):\n",
      "  File \"/Users/nicholassofroniew/anaconda3/lib/python3.6/runpy.py\", line 193, in _run_module_as_main\n",
      "    \"__main__\", mod_spec)\n",
      "  File \"/Users/nicholassofroniew/anaconda3/lib/python3.6/runpy.py\", line 85, in _run_code\n",
      "    exec(code, run_globals)\n",
      "  File \"/Users/nicholassofroniew/anaconda3/lib/python3.6/site-packages/ipykernel_launcher.py\", line 16, in <module>\n",
      "    app.launch_new_instance()\n",
      "  File \"/Users/nicholassofroniew/anaconda3/lib/python3.6/site-packages/traitlets/config/application.py\", line 658, in launch_instance\n",
      "    app.start()\n",
      "  File \"/Users/nicholassofroniew/anaconda3/lib/python3.6/site-packages/ipykernel/kernelapp.py\", line 499, in start\n",
      "    self.io_loop.start()\n",
      "  File \"/Users/nicholassofroniew/anaconda3/lib/python3.6/site-packages/tornado/platform/asyncio.py\", line 132, in start\n",
      "    self.asyncio_loop.run_forever()\n",
      "  File \"/Users/nicholassofroniew/anaconda3/lib/python3.6/asyncio/base_events.py\", line 422, in run_forever\n",
      "    self._run_once()\n",
      "  File \"/Users/nicholassofroniew/anaconda3/lib/python3.6/asyncio/base_events.py\", line 1432, in _run_once\n",
      "    handle._run()\n",
      "  File \"/Users/nicholassofroniew/anaconda3/lib/python3.6/asyncio/events.py\", line 145, in _run\n",
      "    self._callback(*self._args)\n",
      "  File \"/Users/nicholassofroniew/anaconda3/lib/python3.6/site-packages/tornado/ioloop.py\", line 758, in _run_callback\n",
      "    ret = callback()\n",
      "  File \"/Users/nicholassofroniew/anaconda3/lib/python3.6/site-packages/tornado/stack_context.py\", line 300, in null_wrapper\n",
      "    return fn(*args, **kwargs)\n",
      "  File \"/Users/nicholassofroniew/anaconda3/lib/python3.6/site-packages/ipykernel/kernelbase.py\", line 295, in advance_eventloop\n",
      "    eventloop(self)\n",
      "  File \"/Users/nicholassofroniew/anaconda3/lib/python3.6/site-packages/ipykernel/eventloops.py\", line 137, in loop_qt5\n",
      "    return loop_qt4(kernel)\n",
      "  File \"/Users/nicholassofroniew/anaconda3/lib/python3.6/site-packages/ipykernel/eventloops.py\", line 130, in loop_qt4\n",
      "    _loop_qt(kernel.app)\n",
      "  File \"/Users/nicholassofroniew/anaconda3/lib/python3.6/site-packages/ipykernel/eventloops.py\", line 114, in _loop_qt\n",
      "    app.exec_()\n",
      "  File \"/Users/nicholassofroniew/anaconda3/lib/python3.6/site-packages/vispy/app/backends/_qt.py\", line 436, in event\n",
      "    out = super(QtBaseCanvasBackend, self).event(ev)\n",
      "  File \"/Users/nicholassofroniew/anaconda3/lib/python3.6/site-packages/vispy/app/backends/_qt.py\", line 436, in event\n",
      "    out = super(QtBaseCanvasBackend, self).event(ev)\n",
      "  File \"/Users/nicholassofroniew/anaconda3/lib/python3.6/site-packages/vispy/app/backends/_qt.py\", line 708, in paintGL\n",
      "    self._vispy_canvas.events.draw(region=None)\n",
      "  File \"/Users/nicholassofroniew/anaconda3/lib/python3.6/site-packages/vispy/util/event.py\", line 455, in __call__\n",
      "    self._invoke_callback(cb, event)\n",
      "  File \"/Users/nicholassofroniew/anaconda3/lib/python3.6/site-packages/vispy/util/event.py\", line 475, in _invoke_callback\n",
      "    self, cb_event=(cb, event))\n",
      "  << caught exception here: >>\n",
      "  File \"/Users/nicholassofroniew/anaconda3/lib/python3.6/site-packages/vispy/util/event.py\", line 471, in _invoke_callback\n",
      "    cb(event)\n",
      "  File \"/Users/nicholassofroniew/anaconda3/lib/python3.6/site-packages/vispy/scene/canvas.py\", line 207, in on_draw\n",
      "    self._draw_scene()\n",
      "  File \"/Users/nicholassofroniew/anaconda3/lib/python3.6/site-packages/vispy/scene/canvas.py\", line 253, in _draw_scene\n",
      "    self.draw_visual(self.scene)\n",
      "  File \"/Users/nicholassofroniew/anaconda3/lib/python3.6/site-packages/vispy/scene/canvas.py\", line 291, in draw_visual\n",
      "    node.draw()\n",
      "  File \"/Users/nicholassofroniew/Github/napari-gui/napari_gui/_vispy/scene/visuals.py\", line 101, in draw\n",
      "    self._visual_superclass.draw(self)\n",
      "  File \"/Users/nicholassofroniew/anaconda3/lib/python3.6/site-packages/vispy/visuals/visual.py\", line 588, in draw\n",
      "    v.draw()\n",
      "  File \"/Users/nicholassofroniew/anaconda3/lib/python3.6/site-packages/vispy/visuals/visual.py\", line 440, in draw\n",
      "    self._vshare.index_buffer)\n",
      "  File \"/Users/nicholassofroniew/anaconda3/lib/python3.6/site-packages/vispy/visuals/shaders/program.py\", line 76, in draw\n",
      "    self.build_if_needed()\n",
      "  File \"/Users/nicholassofroniew/anaconda3/lib/python3.6/site-packages/vispy/visuals/shaders/program.py\", line 83, in build_if_needed\n",
      "    self._build()\n",
      "  File \"/Users/nicholassofroniew/anaconda3/lib/python3.6/site-packages/vispy/visuals/shaders/program.py\", line 91, in _build\n",
      "    self.set_shaders(code['vert'], code['frag'])\n",
      "  File \"/Users/nicholassofroniew/anaconda3/lib/python3.6/site-packages/vispy/gloo/program.py\", line 159, in set_shaders\n",
      "    self._parse_variables_from_code()\n",
      "  File \"/Users/nicholassofroniew/anaconda3/lib/python3.6/site-packages/vispy/gloo/program.py\", line 222, in _parse_variables_from_code\n",
      "    self._process_pending_variables()\n",
      "  File \"/Users/nicholassofroniew/anaconda3/lib/python3.6/site-packages/vispy/gloo/program.py\", line 247, in _process_pending_variables\n",
      "    self[name] = data\n",
      "  File \"/Users/nicholassofroniew/anaconda3/lib/python3.6/site-packages/vispy/gloo/program.py\", line 363, in __setitem__\n",
      "    % (numel, data._last_dim, name))\n",
      "ValueError: data.shape[-1] must be 4 not 1 for u_color\n",
      "ERROR: Invoking <bound method SceneCanvas.on_draw of <SceneCanvas (PyQt5) at 0x120849550>> for DrawEvent\n"
     ]
    },
    {
     "name": "stdout",
     "output_type": "stream",
     "text": [
      "[array([0., 0., 1., 1.], dtype=float32), array([0., 0., 1., 1.], dtype=float32), array([0., 0., 1., 1.], dtype=float32), array([0., 0., 1., 1.], dtype=float32), array([0., 0., 1., 1.], dtype=float32), array([0., 0., 1., 1.], dtype=float32)]\n"
     ]
    }
   ],
   "source": [
    "1"
   ]
  },
  {
   "cell_type": "code",
   "execution_count": null,
   "metadata": {},
   "outputs": [],
   "source": []
  },
  {
   "cell_type": "code",
   "execution_count": null,
   "metadata": {},
   "outputs": [],
   "source": []
  },
  {
   "cell_type": "code",
   "execution_count": 5,
   "metadata": {},
   "outputs": [
    {
     "data": {
      "text/plain": [
       "(3, 2, 2)"
      ]
     },
     "execution_count": 5,
     "metadata": {},
     "output_type": "execute_result"
    }
   ],
   "source": [
    "window.viewer.layers[-1].data.shape"
   ]
  },
  {
   "cell_type": "code",
   "execution_count": 10,
   "metadata": {},
   "outputs": [
    {
     "data": {
      "text/plain": [
       "array([[200, 200],\n",
       "       [ 50, 150],\n",
       "       [300, 100],\n",
       "       [400, 400],\n",
       "       [100, 100],\n",
       "       [110, 110]])"
      ]
     },
     "execution_count": 10,
     "metadata": {},
     "output_type": "execute_result"
    }
   ],
   "source": [
    "corner_list.reshape((-1,2))"
   ]
  },
  {
   "cell_type": "code",
   "execution_count": null,
   "metadata": {},
   "outputs": [],
   "source": []
  },
  {
   "cell_type": "code",
   "execution_count": 6,
   "metadata": {},
   "outputs": [
    {
     "data": {
      "text/plain": [
       "(2, 2)"
      ]
     },
     "execution_count": 6,
     "metadata": {},
     "output_type": "execute_result"
    }
   ],
   "source": [
    "import numpy as np\n",
    "np.array([[0,0],[0,0]]).shape"
   ]
  },
  {
   "cell_type": "markdown",
   "metadata": {},
   "source": [
    "### Add ellipses layer"
   ]
  },
  {
   "cell_type": "code",
   "execution_count": null,
   "metadata": {},
   "outputs": [],
   "source": [
    "corner_list = array([[[200, 200], [50, 150]], [[300, 100], [400, 400]], [[100, 100], [110, 110]]])\n",
    "window.viewer.add_ellipses(corner_list, face_color='blue', edge_color='blue', vertex_color=None)"
   ]
  },
  {
   "cell_type": "markdown",
   "metadata": {},
   "source": [
    "### Add rectangles layer"
   ]
  },
  {
   "cell_type": "code",
   "execution_count": 5,
   "metadata": {},
   "outputs": [
    {
     "data": {
      "text/plain": [
       "<napari_gui.layers._rectangles_layer.Rectangles at 0x1220ce390>"
      ]
     },
     "execution_count": 5,
     "metadata": {},
     "output_type": "execute_result"
    },
    {
     "name": "stdout",
     "output_type": "stream",
     "text": [
      "[[200.5 200.5]\n",
      " [ 50.5 150.5]\n",
      " [300.5 100.5]\n",
      " [400.5 400.5]\n",
      " [100.5 100.5]\n",
      " [110.5 110.5]]\n",
      "[[200.5 200.5]\n",
      " [ 50.5 150.5]\n",
      " [300.5 100.5]\n",
      " [400.5 400.5]\n",
      " [100.5 100.5]\n",
      " [110.5 110.5]]\n",
      "[[200.5 200.5]\n",
      " [ 50.5 150.5]\n",
      " [300.5 100.5]\n",
      " [400.5 400.5]\n",
      " [100.5 100.5]\n",
      " [110.5 110.5]]\n",
      "[[200.5 200.5]\n",
      " [ 50.5 150.5]\n",
      " [300.5 100.5]\n",
      " [400.5 400.5]\n",
      " [100.5 100.5]\n",
      " [110.5 110.5]]\n",
      "[[200.5 200.5]\n",
      " [ 50.5 150.5]\n",
      " [300.5 100.5]\n",
      " [400.5 400.5]\n",
      " [100.5 100.5]\n",
      " [110.5 110.5]]\n",
      "[[200.5 200.5]\n",
      " [ 50.5 150.5]\n",
      " [300.5 100.5]\n",
      " [400.5 400.5]\n",
      " [100.5 100.5]\n",
      " [110.5 110.5]]\n",
      "[[200.5 200.5]\n",
      " [ 50.5 150.5]\n",
      " [300.5 100.5]\n",
      " [400.5 400.5]\n",
      " [100.5 100.5]\n",
      " [110.5 110.5]]\n",
      "[[200.5 200.5]\n",
      " [ 50.5 150.5]\n",
      " [300.5 100.5]\n",
      " [400.5 400.5]\n",
      " [100.5 100.5]\n",
      " [110.5 110.5]]\n",
      "[[200.5 200.5]\n",
      " [ 50.5 150.5]\n",
      " [300.5 100.5]\n",
      " [400.5 400.5]\n",
      " [100.5 100.5]\n",
      " [110.5 110.5]]\n",
      "[[200.5 200.5]\n",
      " [ 50.5 150.5]\n",
      " [300.5 100.5]\n",
      " [400.5 400.5]\n",
      " [100.5 100.5]\n",
      " [110.5 110.5]]\n",
      "[[200.5 200.5]\n",
      " [ 50.5 150.5]\n",
      " [300.5 100.5]\n",
      " [400.5 400.5]\n",
      " [100.5 100.5]\n",
      " [110.5 110.5]]\n",
      "[[200.5 200.5]\n",
      " [ 50.5 150.5]\n",
      " [300.5 100.5]\n",
      " [400.5 400.5]\n",
      " [100.5 100.5]\n",
      " [110.5 110.5]]\n",
      "[[200.5 200.5]\n",
      " [ 50.5 150.5]\n",
      " [300.5 100.5]\n",
      " [400.5 400.5]\n",
      " [100.5 100.5]\n",
      " [110.5 110.5]]\n",
      "[[200.5 200.5]\n",
      " [ 50.5 150.5]\n",
      " [300.5 100.5]\n",
      " [400.5 400.5]\n",
      " [100.5 100.5]\n",
      " [110.5 110.5]]\n",
      "[[200.5 200.5]\n",
      " [ 50.5 150.5]\n",
      " [300.5 100.5]\n",
      " [400.5 400.5]\n",
      " [100.5 100.5]\n",
      " [110.5 110.5]]\n",
      "[[200.5 200.5]\n",
      " [ 50.5 150.5]\n",
      " [300.5 100.5]\n",
      " [400.5 400.5]\n",
      " [100.5 100.5]\n",
      " [110.5 110.5]]\n",
      "[[200.5 200.5]\n",
      " [ 50.5 150.5]\n",
      " [300.5 100.5]\n",
      " [400.5 400.5]\n",
      " [100.5 100.5]\n",
      " [110.5 110.5]]\n",
      "[[200.5 200.5]\n",
      " [ 50.5 150.5]\n",
      " [300.5 100.5]\n",
      " [400.5 400.5]\n",
      " [100.5 100.5]\n",
      " [110.5 110.5]]\n",
      "[[200.5 200.5]\n",
      " [ 50.5 150.5]\n",
      " [300.5 100.5]\n",
      " [400.5 400.5]\n",
      " [100.5 100.5]\n",
      " [110.5 110.5]]\n",
      "[[200.5 200.5]\n",
      " [ 50.5 150.5]\n",
      " [300.5 100.5]\n",
      " [400.5 400.5]\n",
      " [100.5 100.5]\n",
      " [110.5 110.5]]\n",
      "[[200.5 200.5]\n",
      " [ 50.5 150.5]\n",
      " [300.5 100.5]\n",
      " [400.5 400.5]\n",
      " [100.5 100.5]\n",
      " [110.5 110.5]]\n",
      "[[200.5 200.5]\n",
      " [ 50.5 150.5]\n",
      " [300.5 100.5]\n",
      " [400.5 400.5]\n",
      " [100.5 100.5]\n",
      " [110.5 110.5]]\n",
      "[[200.5 200.5]\n",
      " [ 50.5 150.5]\n",
      " [300.5 100.5]\n",
      " [400.5 400.5]\n",
      " [100.5 100.5]\n",
      " [110.5 110.5]]\n",
      "[[200.5 200.5]\n",
      " [ 50.5 150.5]\n",
      " [300.5 100.5]\n",
      " [400.5 400.5]\n",
      " [100.5 100.5]\n",
      " [110.5 110.5]]\n",
      "[[200.5 200.5]\n",
      " [ 50.5 150.5]\n",
      " [300.5 100.5]\n",
      " [400.5 400.5]\n",
      " [100.5 100.5]\n",
      " [110.5 110.5]]\n",
      "[[200.5 200.5]\n",
      " [ 50.5 150.5]\n",
      " [300.5 100.5]\n",
      " [400.5 400.5]\n",
      " [100.5 100.5]\n",
      " [110.5 110.5]]\n",
      "[[200.5 200.5]\n",
      " [ 50.5 150.5]\n",
      " [300.5 100.5]\n",
      " [400.5 400.5]\n",
      " [100.5 100.5]\n",
      " [110.5 110.5]]\n",
      "[[200.5 200.5]\n",
      " [ 50.5 150.5]\n",
      " [300.5 100.5]\n",
      " [400.5 400.5]\n",
      " [100.5 100.5]\n",
      " [110.5 110.5]]\n",
      "[[200.5 200.5]\n",
      " [ 50.5 150.5]\n",
      " [300.5 100.5]\n",
      " [400.5 400.5]\n",
      " [100.5 100.5]\n",
      " [110.5 110.5]]\n",
      "[[200.5 200.5]\n",
      " [ 50.5 150.5]\n",
      " [300.5 100.5]\n",
      " [400.5 400.5]\n",
      " [100.5 100.5]\n",
      " [110.5 110.5]]\n",
      "[[200.5 200.5]\n",
      " [ 50.5 150.5]\n",
      " [300.5 100.5]\n",
      " [400.5 400.5]\n",
      " [100.5 100.5]\n",
      " [110.5 110.5]]\n",
      "[[200.5 200.5]\n",
      " [ 50.5 150.5]\n",
      " [300.5 100.5]\n",
      " [400.5 400.5]\n",
      " [100.5 100.5]\n",
      " [110.5 110.5]]\n",
      "[[200.5 200.5]\n",
      " [ 50.5 150.5]\n",
      " [300.5 100.5]\n",
      " [400.5 400.5]\n",
      " [100.5 100.5]\n",
      " [110.5 110.5]]\n",
      "[[200.5 200.5]\n",
      " [ 50.5 150.5]\n",
      " [300.5 100.5]\n",
      " [400.5 400.5]\n",
      " [100.5 100.5]\n",
      " [110.5 110.5]]\n",
      "[[200.5 200.5]\n",
      " [ 50.5 150.5]\n",
      " [300.5 100.5]\n",
      " [400.5 400.5]\n",
      " [100.5 100.5]\n",
      " [110.5 110.5]]\n",
      "[[200.5 200.5]\n",
      " [ 50.5 150.5]\n",
      " [300.5 100.5]\n",
      " [400.5 400.5]\n",
      " [100.5 100.5]\n",
      " [110.5 110.5]]\n",
      "[[200.5 200.5]\n",
      " [ 50.5 150.5]\n",
      " [300.5 100.5]\n",
      " [400.5 400.5]\n",
      " [100.5 100.5]\n",
      " [110.5 110.5]]\n",
      "[[200.5 200.5]\n",
      " [ 50.5 150.5]\n",
      " [300.5 100.5]\n",
      " [400.5 400.5]\n",
      " [100.5 100.5]\n",
      " [110.5 110.5]]\n",
      "[[200.5 200.5]\n",
      " [ 50.5 150.5]\n",
      " [300.5 100.5]\n",
      " [400.5 400.5]\n",
      " [100.5 100.5]\n",
      " [110.5 110.5]]\n",
      "[[200.5 200.5]\n",
      " [ 50.5 150.5]\n",
      " [300.5 100.5]\n",
      " [400.5 400.5]\n",
      " [100.5 100.5]\n",
      " [110.5 110.5]]\n",
      "[[200.5 200.5]\n",
      " [ 50.5 150.5]\n",
      " [300.5 100.5]\n",
      " [400.5 400.5]\n",
      " [100.5 100.5]\n",
      " [110.5 110.5]]\n",
      "[[200.5 200.5]\n",
      " [ 50.5 150.5]\n",
      " [300.5 100.5]\n",
      " [400.5 400.5]\n",
      " [100.5 100.5]\n",
      " [110.5 110.5]]\n",
      "[[200.5 200.5]\n",
      " [ 50.5 150.5]\n",
      " [300.5 100.5]\n",
      " [400.5 400.5]\n",
      " [100.5 100.5]\n",
      " [110.5 110.5]]\n",
      "[[200.5 200.5]\n",
      " [ 50.5 150.5]\n",
      " [300.5 100.5]\n",
      " [400.5 400.5]\n",
      " [100.5 100.5]\n",
      " [110.5 110.5]]\n",
      "[[200.5 200.5]\n",
      " [ 50.5 150.5]\n",
      " [300.5 100.5]\n",
      " [400.5 400.5]\n",
      " [100.5 100.5]\n",
      " [110.5 110.5]]\n",
      "[[200.5 200.5]\n",
      " [ 50.5 150.5]\n",
      " [300.5 100.5]\n",
      " [400.5 400.5]\n",
      " [100.5 100.5]\n",
      " [110.5 110.5]]\n",
      "[[200.5 200.5]\n",
      " [ 50.5 150.5]\n",
      " [300.5 100.5]\n",
      " [400.5 400.5]\n",
      " [100.5 100.5]\n",
      " [110.5 110.5]]\n",
      "[[200.5 200.5]\n",
      " [ 50.5 150.5]\n",
      " [300.5 100.5]\n",
      " [400.5 400.5]\n",
      " [100.5 100.5]\n",
      " [110.5 110.5]]\n",
      "[[200.5 200.5]\n",
      " [ 50.5 150.5]\n",
      " [300.5 100.5]\n",
      " [400.5 400.5]\n",
      " [100.5 100.5]\n",
      " [110.5 110.5]]\n",
      "[[200.5 200.5]\n",
      " [ 50.5 150.5]\n",
      " [300.5 100.5]\n",
      " [400.5 400.5]\n",
      " [100.5 100.5]\n",
      " [110.5 110.5]]\n",
      "[[200.5 200.5]\n",
      " [ 50.5 150.5]\n",
      " [300.5 100.5]\n",
      " [400.5 400.5]\n",
      " [100.5 100.5]\n",
      " [110.5 110.5]]\n",
      "[[200.5 200.5]\n",
      " [ 50.5 150.5]\n",
      " [300.5 100.5]\n",
      " [400.5 400.5]\n",
      " [100.5 100.5]\n",
      " [110.5 110.5]]\n",
      "[[200.5 200.5]\n",
      " [ 50.5 150.5]\n",
      " [300.5 100.5]\n",
      " [400.5 400.5]\n",
      " [100.5 100.5]\n",
      " [110.5 110.5]]\n",
      "[[200.5 200.5]\n",
      " [ 50.5 150.5]\n",
      " [300.5 100.5]\n",
      " [400.5 400.5]\n",
      " [100.5 100.5]\n",
      " [110.5 110.5]]\n",
      "[[200.5 200.5]\n",
      " [ 50.5 150.5]\n",
      " [300.5 100.5]\n",
      " [400.5 400.5]\n",
      " [100.5 100.5]\n",
      " [110.5 110.5]]\n",
      "[[200.5 200.5]\n",
      " [ 50.5 150.5]\n",
      " [300.5 100.5]\n",
      " [400.5 400.5]\n",
      " [100.5 100.5]\n",
      " [110.5 110.5]]\n",
      "[[200.5 200.5]\n",
      " [ 50.5 150.5]\n",
      " [300.5 100.5]\n",
      " [400.5 400.5]\n",
      " [100.5 100.5]\n",
      " [110.5 110.5]]\n",
      "[[200.5 200.5]\n",
      " [ 50.5 150.5]\n",
      " [300.5 100.5]\n",
      " [400.5 400.5]\n",
      " [100.5 100.5]\n",
      " [110.5 110.5]]\n",
      "[[200.5 200.5]\n",
      " [ 50.5 150.5]\n",
      " [300.5 100.5]\n",
      " [400.5 400.5]\n",
      " [100.5 100.5]\n",
      " [110.5 110.5]]\n",
      "[[200.5 200.5]\n",
      " [ 50.5 150.5]\n",
      " [300.5 100.5]\n",
      " [400.5 400.5]\n",
      " [100.5 100.5]\n",
      " [110.5 110.5]]\n",
      "[[200.5 200.5]\n",
      " [ 50.5 150.5]\n",
      " [300.5 100.5]\n",
      " [400.5 400.5]\n",
      " [100.5 100.5]\n",
      " [110.5 110.5]]\n",
      "[[200.5 200.5]\n",
      " [ 50.5 150.5]\n",
      " [300.5 100.5]\n",
      " [400.5 400.5]\n",
      " [100.5 100.5]\n",
      " [110.5 110.5]]\n",
      "[[200.5 200.5]\n",
      " [ 50.5 150.5]\n",
      " [300.5 100.5]\n",
      " [400.5 400.5]\n",
      " [100.5 100.5]\n",
      " [110.5 110.5]]\n",
      "[[200.5 200.5]\n",
      " [ 50.5 150.5]\n",
      " [300.5 100.5]\n",
      " [400.5 400.5]\n",
      " [100.5 100.5]\n",
      " [110.5 110.5]]\n",
      "[[200.5 200.5]\n",
      " [ 50.5 150.5]\n",
      " [300.5 100.5]\n",
      " [400.5 400.5]\n",
      " [100.5 100.5]\n",
      " [110.5 110.5]]\n",
      "[[200.5 200.5]\n",
      " [ 50.5 150.5]\n",
      " [300.5 100.5]\n",
      " [400.5 400.5]\n",
      " [100.5 100.5]\n",
      " [110.5 110.5]]\n",
      "[[200.5 200.5]\n",
      " [ 50.5 150.5]\n",
      " [300.5 100.5]\n",
      " [400.5 400.5]\n",
      " [100.5 100.5]\n",
      " [110.5 110.5]]\n",
      "[[200.5 200.5]\n",
      " [ 50.5 150.5]\n",
      " [300.5 100.5]\n",
      " [400.5 400.5]\n",
      " [100.5 100.5]\n",
      " [110.5 110.5]]\n",
      "[[200.5 200.5]\n",
      " [ 50.5 150.5]\n",
      " [300.5 100.5]\n",
      " [400.5 400.5]\n",
      " [100.5 100.5]\n",
      " [110.5 110.5]]\n",
      "[[200.5 200.5]\n",
      " [ 50.5 150.5]\n",
      " [300.5 100.5]\n",
      " [400.5 400.5]\n",
      " [100.5 100.5]\n",
      " [110.5 110.5]]\n",
      "[[200.5 200.5]\n",
      " [ 50.5 150.5]\n",
      " [300.5 100.5]\n",
      " [400.5 400.5]\n",
      " [100.5 100.5]\n",
      " [110.5 110.5]]\n",
      "[[200.5 200.5]\n",
      " [ 50.5 150.5]\n",
      " [300.5 100.5]\n",
      " [400.5 400.5]\n",
      " [100.5 100.5]\n",
      " [110.5 110.5]]\n",
      "[[200.5 200.5]\n",
      " [ 50.5 150.5]\n",
      " [300.5 100.5]\n",
      " [400.5 400.5]\n",
      " [100.5 100.5]\n",
      " [110.5 110.5]]\n",
      "[[200.5 200.5]\n",
      " [ 50.5 150.5]\n",
      " [300.5 100.5]\n",
      " [400.5 400.5]\n",
      " [100.5 100.5]\n",
      " [110.5 110.5]]\n",
      "[[200.5 200.5]\n",
      " [ 50.5 150.5]\n",
      " [300.5 100.5]\n",
      " [400.5 400.5]\n",
      " [100.5 100.5]\n",
      " [110.5 110.5]]\n",
      "[[200.5 200.5]\n",
      " [ 50.5 150.5]\n",
      " [300.5 100.5]\n",
      " [400.5 400.5]\n",
      " [100.5 100.5]\n",
      " [110.5 110.5]]\n",
      "[[200.5 200.5]\n",
      " [ 50.5 150.5]\n",
      " [300.5 100.5]\n",
      " [400.5 400.5]\n",
      " [100.5 100.5]\n",
      " [110.5 110.5]]\n",
      "[[200.5 200.5]\n",
      " [ 50.5 150.5]\n",
      " [300.5 100.5]\n",
      " [400.5 400.5]\n",
      " [100.5 100.5]\n",
      " [110.5 110.5]]\n",
      "[[200.5 200.5]\n",
      " [ 50.5 150.5]\n",
      " [300.5 100.5]\n",
      " [400.5 400.5]\n",
      " [100.5 100.5]\n",
      " [110.5 110.5]]\n",
      "[[200.5 200.5]\n",
      " [ 50.5 150.5]\n",
      " [300.5 100.5]\n",
      " [400.5 400.5]\n",
      " [100.5 100.5]\n",
      " [110.5 110.5]]\n",
      "[[200.5 200.5]\n",
      " [ 50.5 150.5]\n",
      " [300.5 100.5]\n",
      " [400.5 400.5]\n",
      " [100.5 100.5]\n",
      " [110.5 110.5]]\n",
      "[[200.5 200.5]\n",
      " [ 50.5 150.5]\n",
      " [300.5 100.5]\n",
      " [400.5 400.5]\n",
      " [100.5 100.5]\n",
      " [110.5 110.5]]\n",
      "[[200.5 200.5]\n",
      " [ 50.5 150.5]\n",
      " [300.5 100.5]\n",
      " [400.5 400.5]\n",
      " [100.5 100.5]\n",
      " [110.5 110.5]]\n",
      "[[200.5 200.5]\n",
      " [ 50.5 150.5]\n",
      " [300.5 100.5]\n",
      " [400.5 400.5]\n",
      " [100.5 100.5]\n",
      " [110.5 110.5]]\n",
      "[[200.5 200.5]\n",
      " [ 50.5 150.5]\n",
      " [300.5 100.5]\n",
      " [400.5 400.5]\n",
      " [100.5 100.5]\n",
      " [110.5 110.5]]\n",
      "[[200.5 200.5]\n",
      " [ 50.5 150.5]\n",
      " [300.5 100.5]\n",
      " [400.5 400.5]\n",
      " [100.5 100.5]\n",
      " [110.5 110.5]]\n",
      "[[200.5 200.5]\n",
      " [ 50.5 150.5]\n",
      " [300.5 100.5]\n",
      " [400.5 400.5]\n",
      " [100.5 100.5]\n",
      " [110.5 110.5]]\n",
      "[[200.5 200.5]\n",
      " [ 50.5 150.5]\n",
      " [300.5 100.5]\n",
      " [400.5 400.5]\n",
      " [100.5 100.5]\n",
      " [110.5 110.5]]\n",
      "[[200.5 200.5]\n",
      " [ 50.5 150.5]\n",
      " [300.5 100.5]\n",
      " [400.5 400.5]\n",
      " [100.5 100.5]\n",
      " [110.5 110.5]]\n",
      "[[200.5 200.5]\n",
      " [ 50.5 150.5]\n",
      " [300.5 100.5]\n",
      " [400.5 400.5]\n",
      " [100.5 100.5]\n",
      " [110.5 110.5]]\n",
      "[[200.5 200.5]\n",
      " [ 50.5 150.5]\n",
      " [300.5 100.5]\n",
      " [400.5 400.5]\n",
      " [100.5 100.5]\n",
      " [110.5 110.5]]\n"
     ]
    },
    {
     "name": "stdout",
     "output_type": "stream",
     "text": [
      "[[200.5 200.5]\n",
      " [ 50.5 150.5]\n",
      " [300.5 100.5]\n",
      " [400.5 400.5]\n",
      " [100.5 100.5]\n",
      " [110.5 110.5]]\n",
      "[[200.5 200.5]\n",
      " [ 50.5 150.5]\n",
      " [300.5 100.5]\n",
      " [400.5 400.5]\n",
      " [100.5 100.5]\n",
      " [110.5 110.5]]\n",
      "[[200.5 200.5]\n",
      " [ 50.5 150.5]\n",
      " [300.5 100.5]\n",
      " [400.5 400.5]\n",
      " [100.5 100.5]\n",
      " [110.5 110.5]]\n"
     ]
    }
   ],
   "source": [
    "corner_list = array([[[200, 200], [50, 150]], [[300, 100], [400, 400]], [[100, 100], [110, 110]]])\n",
    "window.viewer.add_rectangles(corner_list, face_color='blue', edge_color='blue', vertex_color='blue')"
   ]
  },
  {
   "cell_type": "markdown",
   "metadata": {},
   "source": [
    "### Add a new markers layers"
   ]
  },
  {
   "cell_type": "code",
   "execution_count": null,
   "metadata": {},
   "outputs": [],
   "source": [
    "marker_list = array([[100, 100], [200, 200], [333, 111]])\n",
    "window.viewer.add_markers(marker_list, size=array([10, 20, 20]))"
   ]
  },
  {
   "cell_type": "markdown",
   "metadata": {},
   "source": [
    "## Create an empty window"
   ]
  },
  {
   "cell_type": "code",
   "execution_count": null,
   "metadata": {},
   "outputs": [],
   "source": [
    "from napari_gui import Window, Viewer\n",
    "viewer = Viewer()\n",
    "window = Window(viewer)"
   ]
  },
  {
   "cell_type": "markdown",
   "metadata": {},
   "source": [
    "### Add two images"
   ]
  },
  {
   "cell_type": "code",
   "execution_count": null,
   "metadata": {},
   "outputs": [],
   "source": [
    "viewer.add_image(data.camera(),{})\n",
    "viewer.add_image(data.camera(),{})"
   ]
  },
  {
   "cell_type": "markdown",
   "metadata": {},
   "source": [
    "### Add a third image layer"
   ]
  },
  {
   "cell_type": "code",
   "execution_count": null,
   "metadata": {},
   "outputs": [],
   "source": [
    "viewer.add_image(rgb2gray(data.astronaut()),{})"
   ]
  },
  {
   "cell_type": "markdown",
   "metadata": {},
   "source": [
    "### Add markers layers"
   ]
  },
  {
   "cell_type": "code",
   "execution_count": null,
   "metadata": {},
   "outputs": [],
   "source": [
    "marker_list = array([[100, 100], [200, 200], [333, 111]])\n",
    "viewer.add_markers(marker_list, size=array([10, 20, 20]))"
   ]
  },
  {
   "cell_type": "code",
   "execution_count": null,
   "metadata": {},
   "outputs": [],
   "source": [
    "marker_list = array([[200, 200], [50, 150], [100, 400]])\n",
    "viewer.add_markers(marker_list, size=10, face_color='blue')"
   ]
  },
  {
   "cell_type": "markdown",
   "metadata": {},
   "source": [
    "### Add bounding box layer"
   ]
  },
  {
   "cell_type": "code",
   "execution_count": null,
   "metadata": {},
   "outputs": [],
   "source": [
    "corner_list = array([[[200, 200], [50, 150]], [[300, 100], [400, 400]], [[100, 100], [110, 110]]])\n",
    "viewer.add_rectangles(corner_list, face_color='blue')"
   ]
  },
  {
   "cell_type": "markdown",
   "metadata": {},
   "source": [
    "### Reorder layers"
   ]
  },
  {
   "cell_type": "code",
   "execution_count": null,
   "metadata": {},
   "outputs": [],
   "source": [
    "viewer.layers.swap(0,1)"
   ]
  },
  {
   "cell_type": "code",
   "execution_count": null,
   "metadata": {},
   "outputs": [],
   "source": [
    "viewer.layers.swap(0,3)"
   ]
  },
  {
   "cell_type": "markdown",
   "metadata": {},
   "source": [
    "### Remove first layer"
   ]
  },
  {
   "cell_type": "code",
   "execution_count": null,
   "metadata": {},
   "outputs": [],
   "source": [
    "viewer.layers.pop(1)"
   ]
  },
  {
   "cell_type": "markdown",
   "metadata": {},
   "source": [
    "## Display a single color image"
   ]
  },
  {
   "cell_type": "code",
   "execution_count": null,
   "metadata": {},
   "outputs": [],
   "source": [
    "window = imshow(data.astronaut())"
   ]
  },
  {
   "cell_type": "markdown",
   "metadata": {},
   "source": [
    "## Display multidimensional images"
   ]
  },
  {
   "cell_type": "code",
   "execution_count": null,
   "metadata": {},
   "outputs": [],
   "source": [
    "from napari_gui import Window, Viewer\n",
    "viewer = Viewer()\n",
    "window = Window(viewer, show=False)\n",
    "viewer.add_image(random.rand(500, 500, 20, 10),{})\n",
    "viewer.add_image(random.rand(500, 500, 20, 10),{})\n",
    "marker_list = array([[200, 200, 0, 0], [50, 150, 0, 0], [100, 400, 1, 0]])\n",
    "viewer.add_markers(marker_list, size=10, face_color='blue')\n",
    "window.show()"
   ]
  },
  {
   "cell_type": "code",
   "execution_count": null,
   "metadata": {},
   "outputs": [],
   "source": []
  }
 ],
 "metadata": {
  "kernelspec": {
   "display_name": "Python 3",
   "language": "python",
   "name": "python3"
  },
  "language_info": {
   "codemirror_mode": {
    "name": "ipython",
    "version": 3
   },
   "file_extension": ".py",
   "mimetype": "text/x-python",
   "name": "python",
   "nbconvert_exporter": "python",
   "pygments_lexer": "ipython3",
   "version": "3.6.5"
  }
 },
 "nbformat": 4,
 "nbformat_minor": 2
}

{
 "cells": [
  {
   "cell_type": "markdown",
   "metadata": {},
   "source": [
    "# Setup"
   ]
  },
  {
   "cell_type": "code",
   "execution_count": 1,
   "metadata": {},
   "outputs": [],
   "source": [
    "%gui qt5\n",
    "\n",
    "from skimage import data\n",
    "from skimage.color import rgb2gray\n",
    "from numpy import array, random"
   ]
  },
  {
   "cell_type": "markdown",
   "metadata": {},
   "source": [
    "## Display a single image "
   ]
  },
  {
   "cell_type": "code",
   "execution_count": 2,
   "metadata": {
    "scrolled": true
   },
   "outputs": [
    {
     "name": "stderr",
     "output_type": "stream",
     "text": [
      "/Users/nicholassofroniew/anaconda3/lib/python3.6/site-packages/vispy/visuals/isocurve.py:22: UserWarning: VisPy is not yet compatible with matplotlib 2.2+\n",
      "  warnings.warn(\"VisPy is not yet compatible with matplotlib 2.2+\")\n"
     ]
    }
   ],
   "source": [
    "from napari_gui import imshow\n",
    "window = imshow(data.camera())"
   ]
  },
  {
   "cell_type": "markdown",
   "metadata": {},
   "source": [
    "### Add bounding box layer"
   ]
  },
  {
   "cell_type": "code",
   "execution_count": 3,
   "metadata": {},
   "outputs": [
    {
     "data": {
      "text/plain": [
       "<napari_gui.layers._box_layer.Box at 0x124848eb8>"
      ]
     },
     "execution_count": 3,
     "metadata": {},
     "output_type": "execute_result"
    },
    {
     "name": "stderr",
     "output_type": "stream",
     "text": [
      "WARNING: Traceback (most recent call last):\n",
      "  File \"/Users/nicholassofroniew/anaconda3/lib/python3.6/runpy.py\", line 193, in _run_module_as_main\n",
      "    \"__main__\", mod_spec)\n",
      "  File \"/Users/nicholassofroniew/anaconda3/lib/python3.6/runpy.py\", line 85, in _run_code\n",
      "    exec(code, run_globals)\n",
      "  File \"/Users/nicholassofroniew/anaconda3/lib/python3.6/site-packages/ipykernel_launcher.py\", line 16, in <module>\n",
      "    app.launch_new_instance()\n",
      "  File \"/Users/nicholassofroniew/anaconda3/lib/python3.6/site-packages/traitlets/config/application.py\", line 658, in launch_instance\n",
      "    app.start()\n",
      "  File \"/Users/nicholassofroniew/anaconda3/lib/python3.6/site-packages/ipykernel/kernelapp.py\", line 499, in start\n",
      "    self.io_loop.start()\n",
      "  File \"/Users/nicholassofroniew/anaconda3/lib/python3.6/site-packages/tornado/platform/asyncio.py\", line 132, in start\n",
      "    self.asyncio_loop.run_forever()\n",
      "  File \"/Users/nicholassofroniew/anaconda3/lib/python3.6/asyncio/base_events.py\", line 422, in run_forever\n",
      "    self._run_once()\n",
      "  File \"/Users/nicholassofroniew/anaconda3/lib/python3.6/asyncio/base_events.py\", line 1432, in _run_once\n",
      "    handle._run()\n",
      "  File \"/Users/nicholassofroniew/anaconda3/lib/python3.6/asyncio/events.py\", line 145, in _run\n",
      "    self._callback(*self._args)\n",
      "  File \"/Users/nicholassofroniew/anaconda3/lib/python3.6/site-packages/tornado/ioloop.py\", line 758, in _run_callback\n",
      "    ret = callback()\n",
      "  File \"/Users/nicholassofroniew/anaconda3/lib/python3.6/site-packages/tornado/stack_context.py\", line 300, in null_wrapper\n",
      "    return fn(*args, **kwargs)\n",
      "  File \"/Users/nicholassofroniew/anaconda3/lib/python3.6/site-packages/ipykernel/kernelbase.py\", line 295, in advance_eventloop\n",
      "    eventloop(self)\n",
      "  File \"/Users/nicholassofroniew/anaconda3/lib/python3.6/site-packages/ipykernel/eventloops.py\", line 137, in loop_qt5\n",
      "    return loop_qt4(kernel)\n",
      "  File \"/Users/nicholassofroniew/anaconda3/lib/python3.6/site-packages/ipykernel/eventloops.py\", line 130, in loop_qt4\n",
      "    _loop_qt(kernel.app)\n",
      "  File \"/Users/nicholassofroniew/anaconda3/lib/python3.6/site-packages/ipykernel/eventloops.py\", line 114, in _loop_qt\n",
      "    app.exec_()\n",
      "  File \"/Users/nicholassofroniew/anaconda3/lib/python3.6/site-packages/vispy/app/backends/_qt.py\", line 436, in event\n",
      "    out = super(QtBaseCanvasBackend, self).event(ev)\n",
      "  File \"/Users/nicholassofroniew/anaconda3/lib/python3.6/site-packages/vispy/app/backends/_qt.py\", line 404, in mouseMoveEvent\n",
      "    modifiers=self._modifiers(ev),\n",
      "  File \"/Users/nicholassofroniew/anaconda3/lib/python3.6/site-packages/vispy/app/base.py\", line 208, in _vispy_mouse_move\n",
      "    ev = self._vispy_canvas.events.mouse_move(**kwargs)\n",
      "  File \"/Users/nicholassofroniew/anaconda3/lib/python3.6/site-packages/vispy/util/event.py\", line 455, in __call__\n",
      "    self._invoke_callback(cb, event)\n",
      "  File \"/Users/nicholassofroniew/anaconda3/lib/python3.6/site-packages/vispy/util/event.py\", line 475, in _invoke_callback\n",
      "    self, cb_event=(cb, event))\n",
      "  << caught exception here: >>\n",
      "  File \"/Users/nicholassofroniew/anaconda3/lib/python3.6/site-packages/vispy/util/event.py\", line 471, in _invoke_callback\n",
      "    cb(event)\n",
      "  File \"/Users/nicholassofroniew/Github/napari-gui/napari_gui/elements/qt/_viewer.py\", line 80, in on_mouse_move\n",
      "    shift=shift, ctrl=ctrl, pressed=False, released=False, moving=True)\n",
      "  File \"/Users/nicholassofroniew/Github/napari-gui/napari_gui/layers/_box_layer.py\", line 476, in interact\n",
      "    self._move(coord)\n",
      "  File \"/Users/nicholassofroniew/Github/napari-gui/napari_gui/layers/_box_layer.py\", line 415, in _move\n",
      "    self._refresh()\n",
      "  File \"/Users/nicholassofroniew/Github/napari-gui/napari_gui/layers/_box_layer.py\", line 176, in _refresh\n",
      "    self._update()\n",
      "  File \"/Users/nicholassofroniew/Github/napari-gui/napari_gui/layers/_box_layer.py\", line 166, in _update\n",
      "    self._set_view_slice(self.viewer.dimensions.indices)\n",
      "  File \"/Users/nicholassofroniew/Github/napari-gui/napari_gui/layers/_box_layer.py\", line 293, in _set_view_slice\n",
      "    border_color=edge_color, color=face_color, size=self.size)\n",
      "  File \"/Users/nicholassofroniew/Github/napari-gui/napari_gui/_vispy/visuals/polygonList.py\", line 225, in set_data\n",
      "    self._update()\n",
      "  File \"/Users/nicholassofroniew/Github/napari-gui/napari_gui/_vispy/visuals/polygonList.py\", line 102, in _update\n",
      "    size=self._size, triangulate=self._triangulate)\n",
      "  File \"/Users/nicholassofroniew/Github/napari-gui/napari_gui/_vispy/visuals/polygon.py\", line 221, in set_data\n",
      "    self._update()\n",
      "  File \"/Users/nicholassofroniew/Github/napari-gui/napari_gui/_vispy/visuals/polygon.py\", line 77, in _update\n",
      "    pts, tris = data.triangulate()\n",
      "  File \"/Users/nicholassofroniew/anaconda3/lib/python3.6/site-packages/vispy/geometry/polygon.py\", line 126, in triangulate\n",
      "    edges[:, 0] = np.arange(npts)\n",
      "ValueError: could not broadcast input array from shape (4) into shape (3)\n",
      "ERROR: Invoking <bound method QtViewer.on_mouse_move of <napari_gui.elements.qt._viewer.QtViewer object at 0x11d261558>> for MouseEvent\n"
     ]
    }
   ],
   "source": [
    "box_list = array([[[200, 200], [50, 150]], [[300, 100], [400, 400]], [[100, 100], [110, 110]]])\n",
    "window.viewer.add_box(box_list, face_color='blue', edge_color='blue', vertex_color='black')"
   ]
  },
  {
   "cell_type": "code",
   "execution_count": null,
   "metadata": {},
   "outputs": [],
   "source": []
  },
  {
   "cell_type": "code",
   "execution_count": null,
   "metadata": {},
   "outputs": [],
   "source": [
    "1"
   ]
  },
  {
   "cell_type": "code",
   "execution_count": null,
   "metadata": {},
   "outputs": [],
   "source": []
  },
  {
   "cell_type": "code",
   "execution_count": null,
   "metadata": {},
   "outputs": [],
   "source": []
  },
  {
   "cell_type": "code",
   "execution_count": null,
   "metadata": {},
   "outputs": [],
   "source": []
  },
  {
   "cell_type": "code",
   "execution_count": 4,
   "metadata": {},
   "outputs": [
    {
     "data": {
      "text/plain": [
       "True"
      ]
     },
     "execution_count": 4,
     "metadata": {},
     "output_type": "execute_result"
    }
   ],
   "source": [
    "isinstance(['a'], list)"
   ]
  },
  {
   "cell_type": "code",
   "execution_count": 4,
   "metadata": {},
   "outputs": [
    {
     "data": {
      "text/plain": [
       "False"
      ]
     },
     "execution_count": 4,
     "metadata": {},
     "output_type": "execute_result"
    }
   ],
   "source": [
    "window.viewer.layers[-1].highlight"
   ]
  },
  {
   "cell_type": "code",
   "execution_count": 4,
   "metadata": {},
   "outputs": [
    {
     "data": {
      "text/plain": [
       "1"
      ]
     },
     "execution_count": 4,
     "metadata": {},
     "output_type": "execute_result"
    }
   ],
   "source": [
    "1"
   ]
  },
  {
   "cell_type": "code",
   "execution_count": null,
   "metadata": {},
   "outputs": [],
   "source": []
  },
  {
   "cell_type": "code",
   "execution_count": null,
   "metadata": {},
   "outputs": [],
   "source": []
  },
  {
   "cell_type": "code",
   "execution_count": 7,
   "metadata": {},
   "outputs": [],
   "source": [
    "d = window.viewer.layers[-1].data"
   ]
  },
  {
   "cell_type": "code",
   "execution_count": 23,
   "metadata": {},
   "outputs": [
    {
     "data": {
      "text/plain": [
       "array([[[200, 200],\n",
       "        [ 50, 150]],\n",
       "\n",
       "       [[300, 100],\n",
       "        [400, 400]],\n",
       "\n",
       "       [[100, 100],\n",
       "        [110, 110]],\n",
       "\n",
       "       [[ 40, 300],\n",
       "        [ 50, 310]]])"
      ]
     },
     "execution_count": 23,
     "metadata": {},
     "output_type": "execute_result"
    }
   ],
   "source": [
    "np.append(d, [[coord, [coord[0]+10, coord[1]+10]]], axis=0)"
   ]
  },
  {
   "cell_type": "code",
   "execution_count": 18,
   "metadata": {},
   "outputs": [
    {
     "data": {
      "text/plain": [
       "(3, 2, 2)"
      ]
     },
     "execution_count": 18,
     "metadata": {},
     "output_type": "execute_result"
    }
   ],
   "source": [
    "d.shape"
   ]
  },
  {
   "cell_type": "code",
   "execution_count": 19,
   "metadata": {},
   "outputs": [
    {
     "data": {
      "text/plain": [
       "(2, 2)"
      ]
     },
     "execution_count": 19,
     "metadata": {},
     "output_type": "execute_result"
    }
   ],
   "source": [
    "n.shape"
   ]
  },
  {
   "cell_type": "code",
   "execution_count": 10,
   "metadata": {},
   "outputs": [],
   "source": [
    "coord = [40, 300]"
   ]
  },
  {
   "cell_type": "code",
   "execution_count": 20,
   "metadata": {},
   "outputs": [],
   "source": [
    "import numpy as np\n",
    "n = np.array([[coord, [coord[0]+10, coord[1]+10]]])"
   ]
  },
  {
   "cell_type": "code",
   "execution_count": 21,
   "metadata": {},
   "outputs": [
    {
     "data": {
      "text/plain": [
       "(1, 2, 2)"
      ]
     },
     "execution_count": 21,
     "metadata": {},
     "output_type": "execute_result"
    }
   ],
   "source": [
    "n.shape"
   ]
  },
  {
   "cell_type": "code",
   "execution_count": 7,
   "metadata": {},
   "outputs": [
    {
     "ename": "TypeError",
     "evalue": "can only concatenate list (not \"int\") to list",
     "output_type": "error",
     "traceback": [
      "\u001b[0;31m---------------------------------------------------------------------------\u001b[0m",
      "\u001b[0;31mTypeError\u001b[0m                                 Traceback (most recent call last)",
      "\u001b[0;32m<ipython-input-7-5bc0b5be1534>\u001b[0m in \u001b[0;36m<module>\u001b[0;34m()\u001b[0m\n\u001b[0;32m----> 1\u001b[0;31m \u001b[0;34m[\u001b[0m\u001b[0;36m10\u001b[0m\u001b[0;34m,\u001b[0m \u001b[0;36m10\u001b[0m\u001b[0;34m]\u001b[0m\u001b[0;34m+\u001b[0m\u001b[0;36m10\u001b[0m\u001b[0;34m\u001b[0m\u001b[0m\n\u001b[0m",
      "\u001b[0;31mTypeError\u001b[0m: can only concatenate list (not \"int\") to list"
     ]
    }
   ],
   "source": [
    "[10, 10]+10"
   ]
  },
  {
   "cell_type": "code",
   "execution_count": null,
   "metadata": {},
   "outputs": [],
   "source": []
  },
  {
   "cell_type": "code",
   "execution_count": null,
   "metadata": {},
   "outputs": [],
   "source": []
  },
  {
   "cell_type": "code",
   "execution_count": null,
   "metadata": {},
   "outputs": [],
   "source": []
  },
  {
   "cell_type": "code",
   "execution_count": 6,
   "metadata": {},
   "outputs": [],
   "source": [
    "box = window.viewer.layers[-1]._expand_box(window.viewer.layers[-1].data[0])"
   ]
  },
  {
   "cell_type": "code",
   "execution_count": 9,
   "metadata": {},
   "outputs": [],
   "source": [
    "coord = [60, 180]"
   ]
  },
  {
   "cell_type": "code",
   "execution_count": 10,
   "metadata": {},
   "outputs": [
    {
     "data": {
      "text/plain": [
       "[[50, 150], [50, 200], [200, 200], [200, 150]]"
      ]
     },
     "execution_count": 10,
     "metadata": {},
     "output_type": "execute_result"
    }
   ],
   "source": [
    "box"
   ]
  },
  {
   "cell_type": "code",
   "execution_count": 14,
   "metadata": {},
   "outputs": [],
   "source": [
    "tl = [coord[0] - (box[2][0]-box[0][0])/2, coord[1] - (box[2][1]-box[0][1])/2]\n",
    "br = [coord[0] + (box[2][0]-box[0][0])/2, coord[1] + (box[2][1]-box[0][1])/2]"
   ]
  },
  {
   "cell_type": "code",
   "execution_count": 15,
   "metadata": {},
   "outputs": [
    {
     "data": {
      "text/plain": [
       "[-15.0, 155.0]"
      ]
     },
     "execution_count": 15,
     "metadata": {},
     "output_type": "execute_result"
    }
   ],
   "source": [
    "tl"
   ]
  },
  {
   "cell_type": "code",
   "execution_count": 16,
   "metadata": {},
   "outputs": [
    {
     "data": {
      "text/plain": [
       "[135.0, 205.0]"
      ]
     },
     "execution_count": 16,
     "metadata": {},
     "output_type": "execute_result"
    }
   ],
   "source": [
    "br"
   ]
  },
  {
   "cell_type": "code",
   "execution_count": null,
   "metadata": {},
   "outputs": [],
   "source": []
  },
  {
   "cell_type": "markdown",
   "metadata": {},
   "source": [
    "### Add a new layer"
   ]
  },
  {
   "cell_type": "code",
   "execution_count": null,
   "metadata": {},
   "outputs": [],
   "source": [
    "window.viewer.add_image(rgb2gray(data.astronaut()),{})"
   ]
  },
  {
   "cell_type": "markdown",
   "metadata": {},
   "source": [
    "## Create an empty window and add two images"
   ]
  },
  {
   "cell_type": "code",
   "execution_count": null,
   "metadata": {},
   "outputs": [],
   "source": [
    "from napari_gui import Window, Viewer\n",
    "viewer = Viewer()\n",
    "window = Window(viewer)\n",
    "#viewer.add_image(data.camera(),{})\n",
    "#viewer.add_image(data.camera(),{})"
   ]
  },
  {
   "cell_type": "markdown",
   "metadata": {},
   "source": [
    "### Add a third image layer"
   ]
  },
  {
   "cell_type": "code",
   "execution_count": null,
   "metadata": {},
   "outputs": [],
   "source": [
    "viewer.add_image(rgb2gray(data.astronaut()),{})"
   ]
  },
  {
   "cell_type": "markdown",
   "metadata": {},
   "source": [
    "### Add markers layers"
   ]
  },
  {
   "cell_type": "code",
   "execution_count": null,
   "metadata": {},
   "outputs": [],
   "source": [
    "marker_list = array([[100, 100], [200, 200], [333, 111]])\n",
    "viewer.add_markers(marker_list, size=array([10, 20, 20]))"
   ]
  },
  {
   "cell_type": "code",
   "execution_count": null,
   "metadata": {},
   "outputs": [],
   "source": [
    "marker_list = array([[200, 200], [50, 150], [100, 400]])\n",
    "viewer.add_markers(marker_list, size=10, face_color='blue')"
   ]
  },
  {
   "cell_type": "markdown",
   "metadata": {},
   "source": [
    "### Add bounding box layer"
   ]
  },
  {
   "cell_type": "code",
   "execution_count": null,
   "metadata": {},
   "outputs": [],
   "source": [
    "bbox_list = array([[[200, 200], [50, 150]], [[300, 100], [400, 400]], [[100, 100], [110, 110]]])\n",
    "viewer.add_bbox(bbox_list, face_color='blue')"
   ]
  },
  {
   "cell_type": "markdown",
   "metadata": {},
   "source": [
    "### Reorder layers"
   ]
  },
  {
   "cell_type": "code",
   "execution_count": null,
   "metadata": {},
   "outputs": [],
   "source": [
    "viewer.layers.swap(0,1)"
   ]
  },
  {
   "cell_type": "code",
   "execution_count": null,
   "metadata": {},
   "outputs": [],
   "source": [
    "viewer.layers.swap(0,3)"
   ]
  },
  {
   "cell_type": "markdown",
   "metadata": {},
   "source": [
    "### Remove first layer"
   ]
  },
  {
   "cell_type": "code",
   "execution_count": null,
   "metadata": {},
   "outputs": [],
   "source": [
    "viewer.layers.pop(1)"
   ]
  },
  {
   "cell_type": "markdown",
   "metadata": {},
   "source": [
    "## Display a single color image"
   ]
  },
  {
   "cell_type": "code",
   "execution_count": null,
   "metadata": {},
   "outputs": [],
   "source": [
    "window = imshow(data.astronaut())"
   ]
  },
  {
   "cell_type": "markdown",
   "metadata": {},
   "source": [
    "## Display multidimensional images"
   ]
  },
  {
   "cell_type": "code",
   "execution_count": null,
   "metadata": {},
   "outputs": [],
   "source": [
    "from napari_gui import Window, Viewer\n",
    "viewer = Viewer()\n",
    "window = Window(viewer, show=False)\n",
    "viewer.add_image(random.rand(500, 500, 20, 10),{})\n",
    "viewer.add_image(random.rand(500, 500, 20, 10),{})\n",
    "marker_list = array([[200, 200, 0, 0], [50, 150, 0, 0], [100, 400, 1, 0]])\n",
    "viewer.add_markers(marker_list, size=10, face_color='blue')\n",
    "window.show()"
   ]
  },
  {
   "cell_type": "code",
   "execution_count": null,
   "metadata": {},
   "outputs": [],
   "source": []
  }
 ],
 "metadata": {
  "kernelspec": {
   "display_name": "Python 3",
   "language": "python",
   "name": "python3"
  },
  "language_info": {
   "codemirror_mode": {
    "name": "ipython",
    "version": 3
   },
   "file_extension": ".py",
   "mimetype": "text/x-python",
   "name": "python",
   "nbconvert_exporter": "python",
   "pygments_lexer": "ipython3",
   "version": "3.6.5"
  }
 },
 "nbformat": 4,
 "nbformat_minor": 2
}

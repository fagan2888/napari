{
 "cells": [
  {
   "cell_type": "markdown",
   "metadata": {},
   "source": [
    "# Setup"
   ]
  },
  {
   "cell_type": "code",
   "execution_count": 1,
   "metadata": {},
   "outputs": [],
   "source": [
    "%gui qt5\n",
    "\n",
    "from skimage import data\n",
    "from skimage.color import rgb2gray\n",
    "from numpy import array, random"
   ]
  },
  {
   "cell_type": "markdown",
   "metadata": {},
   "source": [
    "## Display a single image "
   ]
  },
  {
   "cell_type": "code",
   "execution_count": 2,
   "metadata": {
    "scrolled": true
   },
   "outputs": [
    {
     "name": "stderr",
     "output_type": "stream",
     "text": [
      "/Users/nicholassofroniew/anaconda3/lib/python3.6/site-packages/vispy/visuals/isocurve.py:22: UserWarning: VisPy is not yet compatible with matplotlib 2.2+\n",
      "  warnings.warn(\"VisPy is not yet compatible with matplotlib 2.2+\")\n"
     ]
    }
   ],
   "source": [
    "from napari_gui import imshow\n",
    "window = imshow(data.camera())"
   ]
  },
  {
   "cell_type": "code",
   "execution_count": 3,
   "metadata": {},
   "outputs": [
    {
     "data": {
      "text/plain": [
       "<napari_gui.layers._rectangles_layer.Rectangles at 0x12272f710>"
      ]
     },
     "execution_count": 3,
     "metadata": {},
     "output_type": "execute_result"
    }
   ],
   "source": [
    "corner_list = array([[[200, 200], [50, 150]], [[300, 100], [400, 400]], [[100, 100], [110, 110]]])\n",
    "window.viewer.add_rectangles(corner_list, face_color='blue', edge_color='blue', vertex_color='blue')"
   ]
  },
  {
   "cell_type": "code",
   "execution_count": 4,
   "metadata": {},
   "outputs": [
    {
     "data": {
      "text/plain": [
       "1"
      ]
     },
     "execution_count": 4,
     "metadata": {},
     "output_type": "execute_result"
    }
   ],
   "source": [
    "1"
   ]
  },
  {
   "cell_type": "code",
   "execution_count": null,
   "metadata": {},
   "outputs": [],
   "source": []
  },
  {
   "cell_type": "code",
   "execution_count": null,
   "metadata": {},
   "outputs": [],
   "source": []
  },
  {
   "cell_type": "code",
   "execution_count": 5,
   "metadata": {},
   "outputs": [
    {
     "data": {
      "text/plain": [
       "1"
      ]
     },
     "execution_count": 5,
     "metadata": {},
     "output_type": "execute_result"
    },
    {
     "name": "stdout",
     "output_type": "stream",
     "text": [
      "add\n",
      "None\n",
      "edit\n"
     ]
    },
    {
     "name": "stderr",
     "output_type": "stream",
     "text": [
      "WARNING: Traceback (most recent call last):\n",
      "  File \"/Users/nicholassofroniew/anaconda3/lib/python3.6/runpy.py\", line 193, in _run_module_as_main\n",
      "    \"__main__\", mod_spec)\n",
      "  File \"/Users/nicholassofroniew/anaconda3/lib/python3.6/runpy.py\", line 85, in _run_code\n",
      "    exec(code, run_globals)\n",
      "  File \"/Users/nicholassofroniew/anaconda3/lib/python3.6/site-packages/ipykernel_launcher.py\", line 16, in <module>\n",
      "    app.launch_new_instance()\n",
      "  File \"/Users/nicholassofroniew/anaconda3/lib/python3.6/site-packages/traitlets/config/application.py\", line 658, in launch_instance\n",
      "    app.start()\n",
      "  File \"/Users/nicholassofroniew/anaconda3/lib/python3.6/site-packages/ipykernel/kernelapp.py\", line 499, in start\n",
      "    self.io_loop.start()\n",
      "  File \"/Users/nicholassofroniew/anaconda3/lib/python3.6/site-packages/tornado/platform/asyncio.py\", line 132, in start\n",
      "    self.asyncio_loop.run_forever()\n",
      "  File \"/Users/nicholassofroniew/anaconda3/lib/python3.6/asyncio/base_events.py\", line 422, in run_forever\n",
      "    self._run_once()\n",
      "  File \"/Users/nicholassofroniew/anaconda3/lib/python3.6/asyncio/base_events.py\", line 1432, in _run_once\n",
      "    handle._run()\n",
      "  File \"/Users/nicholassofroniew/anaconda3/lib/python3.6/asyncio/events.py\", line 145, in _run\n",
      "    self._callback(*self._args)\n",
      "  File \"/Users/nicholassofroniew/anaconda3/lib/python3.6/site-packages/tornado/ioloop.py\", line 758, in _run_callback\n",
      "    ret = callback()\n",
      "  File \"/Users/nicholassofroniew/anaconda3/lib/python3.6/site-packages/tornado/stack_context.py\", line 300, in null_wrapper\n",
      "    return fn(*args, **kwargs)\n",
      "  File \"/Users/nicholassofroniew/anaconda3/lib/python3.6/site-packages/ipykernel/kernelbase.py\", line 295, in advance_eventloop\n",
      "    eventloop(self)\n",
      "  File \"/Users/nicholassofroniew/anaconda3/lib/python3.6/site-packages/ipykernel/eventloops.py\", line 137, in loop_qt5\n",
      "    return loop_qt4(kernel)\n",
      "  File \"/Users/nicholassofroniew/anaconda3/lib/python3.6/site-packages/ipykernel/eventloops.py\", line 130, in loop_qt4\n",
      "    _loop_qt(kernel.app)\n",
      "  File \"/Users/nicholassofroniew/anaconda3/lib/python3.6/site-packages/ipykernel/eventloops.py\", line 114, in _loop_qt\n",
      "    app.exec_()\n",
      "  File \"/Users/nicholassofroniew/anaconda3/lib/python3.6/site-packages/vispy/app/backends/_qt.py\", line 436, in event\n",
      "    out = super(QtBaseCanvasBackend, self).event(ev)\n",
      "  File \"/Users/nicholassofroniew/anaconda3/lib/python3.6/site-packages/vispy/app/backends/_qt.py\", line 375, in mousePressEvent\n",
      "    modifiers=self._modifiers(ev),\n",
      "  File \"/Users/nicholassofroniew/anaconda3/lib/python3.6/site-packages/vispy/app/base.py\", line 176, in _vispy_mouse_press\n",
      "    ev = self._vispy_canvas.events.mouse_press(**kwargs)\n",
      "  File \"/Users/nicholassofroniew/anaconda3/lib/python3.6/site-packages/vispy/util/event.py\", line 455, in __call__\n",
      "    self._invoke_callback(cb, event)\n",
      "  File \"/Users/nicholassofroniew/anaconda3/lib/python3.6/site-packages/vispy/util/event.py\", line 475, in _invoke_callback\n",
      "    self, cb_event=(cb, event))\n",
      "  << caught exception here: >>\n",
      "  File \"/Users/nicholassofroniew/anaconda3/lib/python3.6/site-packages/vispy/util/event.py\", line 471, in _invoke_callback\n",
      "    cb(event)\n",
      "  File \"/Users/nicholassofroniew/Github/napari-gui/napari_gui/elements/qt/_viewer.py\", line 100, in on_mouse_press\n",
      "    shift=shift, ctrl=ctrl, pressed=True, released=False, moving=False)\n",
      "  File \"/Users/nicholassofroniew/Github/napari-gui/napari_gui/layers/_rectangles_layer.py\", line 528, in interact\n",
      "    self._remove(coord)\n",
      "  File \"/Users/nicholassofroniew/Github/napari-gui/napari_gui/layers/_rectangles_layer.py\", line 409, in _remove\n",
      "    self.data = delete(self.data, index[0], axis=0)\n",
      "  File \"/Users/nicholassofroniew/Github/napari-gui/napari_gui/layers/_rectangles_layer.py\", line 91, in data\n",
      "    self.coords = data\n",
      "  File \"/Users/nicholassofroniew/Github/napari-gui/napari_gui/layers/_rectangles_layer.py\", line 81, in coords\n",
      "    self._refresh()\n",
      "  File \"/Users/nicholassofroniew/Github/napari-gui/napari_gui/layers/_rectangles_layer.py\", line 180, in _refresh\n",
      "    self._update()\n",
      "  File \"/Users/nicholassofroniew/Github/napari-gui/napari_gui/layers/_rectangles_layer.py\", line 170, in _update\n",
      "    self._set_view_slice(self.viewer.dimensions.indices)\n",
      "  File \"/Users/nicholassofroniew/Github/napari-gui/napari_gui/layers/_rectangles_layer.py\", line 285, in _set_view_slice\n",
      "    edge_color[self._selected_shapes[0]] = (0, 0.6, 1)\n",
      "IndexError: list assignment index out of range\n",
      "ERROR: Invoking <bound method QtViewer.on_mouse_press of <napari_gui.elements.qt._viewer.QtViewer object at 0x1140aa4c8>> for MouseEvent\n"
     ]
    },
    {
     "name": "stdout",
     "output_type": "stream",
     "text": [
      "edit\n",
      "edit\n",
      "None\n",
      "add\n"
     ]
    }
   ],
   "source": [
    "window.viewer.active_markers"
   ]
  },
  {
   "cell_type": "code",
   "execution_count": 16,
   "metadata": {},
   "outputs": [
    {
     "data": {
      "text/plain": [
       "<napari_gui.elements._viewer.Viewer at 0x11e7b4da0>"
      ]
     },
     "execution_count": 16,
     "metadata": {},
     "output_type": "execute_result"
    }
   ],
   "source": [
    "window.viewer.top"
   ]
  },
  {
   "cell_type": "code",
   "execution_count": null,
   "metadata": {},
   "outputs": [],
   "source": []
  },
  {
   "cell_type": "code",
   "execution_count": null,
   "metadata": {},
   "outputs": [],
   "source": []
  },
  {
   "cell_type": "code",
   "execution_count": null,
   "metadata": {},
   "outputs": [],
   "source": []
  },
  {
   "cell_type": "markdown",
   "metadata": {},
   "source": [
    "### Add a new image layer"
   ]
  },
  {
   "cell_type": "code",
   "execution_count": 3,
   "metadata": {},
   "outputs": [
    {
     "data": {
      "text/plain": [
       "<napari_gui.layers._image_layer.Image at 0x10a4015f8>"
      ]
     },
     "execution_count": 3,
     "metadata": {},
     "output_type": "execute_result"
    }
   ],
   "source": [
    "window.viewer.add_image(rgb2gray(data.astronaut()),{})"
   ]
  },
  {
   "cell_type": "markdown",
   "metadata": {},
   "source": [
    "### Add lines layer"
   ]
  },
  {
   "cell_type": "code",
   "execution_count": 4,
   "metadata": {},
   "outputs": [
    {
     "data": {
      "text/plain": [
       "<napari_gui.layers._lines_layer.Lines at 0x120fc1080>"
      ]
     },
     "execution_count": 4,
     "metadata": {},
     "output_type": "execute_result"
    }
   ],
   "source": [
    "corner_list = array([[[200, 200], [50, 150]], [[300, 100], [400, 400]], [[100, 100], [110, 110]]])\n",
    "window.viewer.add_lines(corner_list, edge_color='blue', vertex_color=None)"
   ]
  },
  {
   "cell_type": "code",
   "execution_count": 5,
   "metadata": {},
   "outputs": [
    {
     "data": {
      "text/plain": [
       "'select'"
      ]
     },
     "execution_count": 5,
     "metadata": {},
     "output_type": "execute_result"
    }
   ],
   "source": [
    "window.viewer.mode"
   ]
  },
  {
   "cell_type": "code",
   "execution_count": null,
   "metadata": {},
   "outputs": [],
   "source": []
  },
  {
   "cell_type": "code",
   "execution_count": null,
   "metadata": {},
   "outputs": [],
   "source": []
  },
  {
   "cell_type": "code",
   "execution_count": 5,
   "metadata": {},
   "outputs": [
    {
     "data": {
      "text/plain": [
       "(3, 2, 2)"
      ]
     },
     "execution_count": 5,
     "metadata": {},
     "output_type": "execute_result"
    }
   ],
   "source": [
    "window.viewer.layers[-1].data.shape"
   ]
  },
  {
   "cell_type": "code",
   "execution_count": 10,
   "metadata": {},
   "outputs": [
    {
     "data": {
      "text/plain": [
       "array([[200, 200],\n",
       "       [ 50, 150],\n",
       "       [300, 100],\n",
       "       [400, 400],\n",
       "       [100, 100],\n",
       "       [110, 110]])"
      ]
     },
     "execution_count": 10,
     "metadata": {},
     "output_type": "execute_result"
    }
   ],
   "source": [
    "corner_list.reshape((-1,2))"
   ]
  },
  {
   "cell_type": "code",
   "execution_count": null,
   "metadata": {},
   "outputs": [],
   "source": []
  },
  {
   "cell_type": "code",
   "execution_count": 6,
   "metadata": {},
   "outputs": [
    {
     "data": {
      "text/plain": [
       "(2, 2)"
      ]
     },
     "execution_count": 6,
     "metadata": {},
     "output_type": "execute_result"
    }
   ],
   "source": [
    "import numpy as np\n",
    "np.array([[0,0],[0,0]]).shape"
   ]
  },
  {
   "cell_type": "markdown",
   "metadata": {},
   "source": [
    "### Add ellipses layer"
   ]
  },
  {
   "cell_type": "markdown",
   "metadata": {},
   "source": [
    "### Add rectangles layer"
   ]
  },
  {
   "cell_type": "code",
   "execution_count": 4,
   "metadata": {},
   "outputs": [
    {
     "data": {
      "text/plain": [
       "<napari_gui.layers._ellipses_layer.Ellipses at 0x1287d7748>"
      ]
     },
     "execution_count": 4,
     "metadata": {},
     "output_type": "execute_result"
    }
   ],
   "source": [
    "corner_list = array([[[200, 200], [50, 150]], [[300, 100], [400, 400]], [[100, 100], [110, 110]]])\n",
    "window.viewer.add_ellipses(corner_list, face_color='blue', edge_color='blue', vertex_color=None)"
   ]
  },
  {
   "cell_type": "code",
   "execution_count": 5,
   "metadata": {},
   "outputs": [
    {
     "data": {
      "text/plain": [
       "<napari_gui.layers._rectangles_layer.Rectangles at 0x129054c88>"
      ]
     },
     "execution_count": 5,
     "metadata": {},
     "output_type": "execute_result"
    }
   ],
   "source": [
    "corner_list = array([[[200, 200], [50, 150]], [[300, 100], [400, 400]], [[100, 100], [110, 110]]])\n",
    "window.viewer.add_rectangles(corner_list, face_color='blue', edge_color='blue', vertex_color='blue')"
   ]
  },
  {
   "cell_type": "markdown",
   "metadata": {},
   "source": [
    "### Add a new markers layers"
   ]
  },
  {
   "cell_type": "code",
   "execution_count": 6,
   "metadata": {},
   "outputs": [
    {
     "data": {
      "text/plain": [
       "<napari_gui.layers._markers_layer.Markers at 0x1287d75f8>"
      ]
     },
     "execution_count": 6,
     "metadata": {},
     "output_type": "execute_result"
    }
   ],
   "source": [
    "marker_list = array([[100, 100], [200, 200], [333, 111]])\n",
    "window.viewer.add_markers(marker_list, size=array([10, 20, 20]))"
   ]
  },
  {
   "cell_type": "markdown",
   "metadata": {},
   "source": [
    "## Create an empty window"
   ]
  },
  {
   "cell_type": "code",
   "execution_count": null,
   "metadata": {},
   "outputs": [],
   "source": [
    "from napari_gui import Window, Viewer\n",
    "viewer = Viewer()\n",
    "window = Window(viewer)"
   ]
  },
  {
   "cell_type": "markdown",
   "metadata": {},
   "source": [
    "### Add two images"
   ]
  },
  {
   "cell_type": "code",
   "execution_count": null,
   "metadata": {},
   "outputs": [],
   "source": [
    "viewer.add_image(data.camera(),{})\n",
    "viewer.add_image(data.camera(),{})"
   ]
  },
  {
   "cell_type": "markdown",
   "metadata": {},
   "source": [
    "### Add a third image layer"
   ]
  },
  {
   "cell_type": "code",
   "execution_count": null,
   "metadata": {},
   "outputs": [],
   "source": [
    "viewer.add_image(rgb2gray(data.astronaut()),{})"
   ]
  },
  {
   "cell_type": "markdown",
   "metadata": {},
   "source": [
    "### Add markers layers"
   ]
  },
  {
   "cell_type": "code",
   "execution_count": null,
   "metadata": {},
   "outputs": [],
   "source": [
    "marker_list = array([[100, 100], [200, 200], [333, 111]])\n",
    "viewer.add_markers(marker_list, size=array([10, 20, 20]))"
   ]
  },
  {
   "cell_type": "code",
   "execution_count": null,
   "metadata": {},
   "outputs": [],
   "source": [
    "marker_list = array([[200, 200], [50, 150], [100, 400]])\n",
    "viewer.add_markers(marker_list, size=10, face_color='blue')"
   ]
  },
  {
   "cell_type": "markdown",
   "metadata": {},
   "source": [
    "### Add bounding box layer"
   ]
  },
  {
   "cell_type": "code",
   "execution_count": null,
   "metadata": {},
   "outputs": [],
   "source": [
    "corner_list = array([[[200, 200], [50, 150]], [[300, 100], [400, 400]], [[100, 100], [110, 110]]])\n",
    "viewer.add_rectangles(corner_list, face_color='blue')"
   ]
  },
  {
   "cell_type": "markdown",
   "metadata": {},
   "source": [
    "### Reorder layers"
   ]
  },
  {
   "cell_type": "code",
   "execution_count": null,
   "metadata": {},
   "outputs": [],
   "source": [
    "viewer.layers.swap(0,1)"
   ]
  },
  {
   "cell_type": "code",
   "execution_count": null,
   "metadata": {},
   "outputs": [],
   "source": [
    "viewer.layers.swap(0,3)"
   ]
  },
  {
   "cell_type": "markdown",
   "metadata": {},
   "source": [
    "### Remove first layer"
   ]
  },
  {
   "cell_type": "code",
   "execution_count": null,
   "metadata": {},
   "outputs": [],
   "source": [
    "viewer.layers.pop(1)"
   ]
  },
  {
   "cell_type": "markdown",
   "metadata": {},
   "source": [
    "## Display a single color image"
   ]
  },
  {
   "cell_type": "code",
   "execution_count": null,
   "metadata": {},
   "outputs": [],
   "source": [
    "window = imshow(data.astronaut())"
   ]
  },
  {
   "cell_type": "markdown",
   "metadata": {},
   "source": [
    "## Display multidimensional images"
   ]
  },
  {
   "cell_type": "code",
   "execution_count": null,
   "metadata": {},
   "outputs": [],
   "source": [
    "from napari_gui import Window, Viewer\n",
    "viewer = Viewer()\n",
    "window = Window(viewer, show=False)\n",
    "viewer.add_image(random.rand(500, 500, 20, 10),{})\n",
    "viewer.add_image(random.rand(500, 500, 20, 10),{})\n",
    "marker_list = array([[200, 200, 0, 0], [50, 150, 0, 0], [100, 400, 1, 0]])\n",
    "viewer.add_markers(marker_list, size=10, face_color='blue')\n",
    "window.show()"
   ]
  },
  {
   "cell_type": "code",
   "execution_count": null,
   "metadata": {},
   "outputs": [],
   "source": []
  }
 ],
 "metadata": {
  "kernelspec": {
   "display_name": "Python 3",
   "language": "python",
   "name": "python3"
  },
  "language_info": {
   "codemirror_mode": {
    "name": "ipython",
    "version": 3
   },
   "file_extension": ".py",
   "mimetype": "text/x-python",
   "name": "python",
   "nbconvert_exporter": "python",
   "pygments_lexer": "ipython3",
   "version": "3.6.5"
  }
 },
 "nbformat": 4,
 "nbformat_minor": 2
}

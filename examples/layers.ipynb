{
 "cells": [
  {
   "cell_type": "markdown",
   "metadata": {},
   "source": [
    "# Setup"
   ]
  },
  {
   "cell_type": "code",
   "execution_count": 3,
   "metadata": {},
   "outputs": [],
   "source": [
    "%gui qt5\n",
    "\n",
    "from skimage import data\n",
    "from skimage.color import rgb2gray\n",
    "from numpy import array, random"
   ]
  },
  {
   "cell_type": "markdown",
   "metadata": {},
   "source": [
    "## Display a single image "
   ]
  },
  {
   "cell_type": "code",
   "execution_count": 4,
   "metadata": {
    "scrolled": true
   },
   "outputs": [],
   "source": [
    "from napari_gui import imshow\n",
    "window = imshow(data.camera())"
   ]
  },
  {
   "cell_type": "markdown",
   "metadata": {},
   "source": [
    "### Add a new image layer"
   ]
  },
  {
   "cell_type": "code",
   "execution_count": 5,
   "metadata": {},
   "outputs": [
    {
     "data": {
      "text/plain": [
       "<napari_gui.layers._image_layer.Image at 0x155000898>"
      ]
     },
     "execution_count": 5,
     "metadata": {},
     "output_type": "execute_result"
    }
   ],
   "source": [
    "window.viewer.add_image(rgb2gray(data.astronaut()),{})"
   ]
  },
  {
   "cell_type": "code",
   "execution_count": 7,
   "metadata": {},
   "outputs": [],
   "source": [
    "window.viewer.layers[-1].name = 'eee'"
   ]
  },
  {
   "cell_type": "code",
   "execution_count": null,
   "metadata": {},
   "outputs": [],
   "source": []
  },
  {
   "cell_type": "code",
   "execution_count": null,
   "metadata": {},
   "outputs": [],
   "source": []
  },
  {
   "cell_type": "markdown",
   "metadata": {},
   "source": [
    "### Add rectangles layer"
   ]
  },
  {
   "cell_type": "code",
   "execution_count": 4,
   "metadata": {},
   "outputs": [
    {
     "data": {
      "text/plain": [
       "<napari_gui.layers._rectangles_layer.Rectangles at 0x122ef14e0>"
      ]
     },
     "execution_count": 4,
     "metadata": {},
     "output_type": "execute_result"
    }
   ],
   "source": [
    "corner_list = array([[[200, 200], [50, 150]], [[300, 100], [400, 400]], [[100, 100], [110, 110]]])\n",
    "window.viewer.add_rectangles(corner_list, face_color='blue', edge_color='blue', vertex_color='blue')"
   ]
  },
  {
   "cell_type": "code",
   "execution_count": 5,
   "metadata": {},
   "outputs": [
    {
     "data": {
      "text/plain": [
       "1"
      ]
     },
     "execution_count": 5,
     "metadata": {},
     "output_type": "execute_result"
    }
   ],
   "source": [
    "1"
   ]
  },
  {
   "cell_type": "markdown",
   "metadata": {},
   "source": [
    "### Add ellipses layer"
   ]
  },
  {
   "cell_type": "code",
   "execution_count": 5,
   "metadata": {},
   "outputs": [
    {
     "data": {
      "text/plain": [
       "<napari_gui.layers._ellipses_layer.Ellipses at 0x1229e75c0>"
      ]
     },
     "execution_count": 5,
     "metadata": {},
     "output_type": "execute_result"
    }
   ],
   "source": [
    "corner_list = array([[[200, 200], [50, 150]], [[300, 100], [400, 400]], [[100, 100], [110, 110]]])\n",
    "window.viewer.add_ellipses(corner_list, face_color='green', edge_color='green', vertex_color=None)"
   ]
  },
  {
   "cell_type": "markdown",
   "metadata": {},
   "source": [
    "### Add a new markers layers"
   ]
  },
  {
   "cell_type": "code",
   "execution_count": 6,
   "metadata": {},
   "outputs": [
    {
     "data": {
      "text/plain": [
       "<napari_gui.layers._markers_layer.Markers at 0x1245bf4e0>"
      ]
     },
     "execution_count": 6,
     "metadata": {},
     "output_type": "execute_result"
    }
   ],
   "source": [
    "marker_list = array([[100, 100], [200, 200], [333, 111]])\n",
    "window.viewer.add_markers(marker_list, size=array([10, 20, 20]))"
   ]
  },
  {
   "cell_type": "code",
   "execution_count": null,
   "metadata": {},
   "outputs": [],
   "source": []
  },
  {
   "cell_type": "code",
   "execution_count": 7,
   "metadata": {},
   "outputs": [
    {
     "data": {
      "text/plain": [
       "['_Frozen__isfrozen',\n",
       " '__class__',\n",
       " '__delattr__',\n",
       " '__dict__',\n",
       " '__dir__',\n",
       " '__doc__',\n",
       " '__eq__',\n",
       " '__format__',\n",
       " '__ge__',\n",
       " '__getattribute__',\n",
       " '__gt__',\n",
       " '__hash__',\n",
       " '__init__',\n",
       " '__init_subclass__',\n",
       " '__le__',\n",
       " '__lt__',\n",
       " '__module__',\n",
       " '__ne__',\n",
       " '__new__',\n",
       " '__reduce__',\n",
       " '__reduce_ex__',\n",
       " '__repr__',\n",
       " '__setattr__',\n",
       " '__sizeof__',\n",
       " '__str__',\n",
       " '__subclasshook__',\n",
       " '__weakref__',\n",
       " '_add_child',\n",
       " '_border_color',\n",
       " '_border_method',\n",
       " '_border_width',\n",
       " '_bounds_changed',\n",
       " '_canvas',\n",
       " '_children',\n",
       " '_clip_children',\n",
       " '_clipper',\n",
       " '_clippers',\n",
       " '_color',\n",
       " '_compute_bounds',\n",
       " '_describe_tree',\n",
       " '_document',\n",
       " '_document_node',\n",
       " '_id',\n",
       " '_interactive',\n",
       " '_name',\n",
       " '_next_id',\n",
       " '_opacity',\n",
       " '_opacity_filter',\n",
       " '_order',\n",
       " '_parent',\n",
       " '_picking',\n",
       " '_picking_filter',\n",
       " '_pos',\n",
       " '_prepare_draw',\n",
       " '_prepare_transforms',\n",
       " '_remove_child',\n",
       " '_scene_node',\n",
       " '_set_canvas',\n",
       " '_set_clipper',\n",
       " '_subv_update',\n",
       " '_subvisuals',\n",
       " '_transform',\n",
       " '_transform_changed',\n",
       " '_transforms',\n",
       " '_triangulate',\n",
       " '_update',\n",
       " '_update_opacity',\n",
       " '_update_trsys',\n",
       " '_vertex_color',\n",
       " '_vertex_edge_color',\n",
       " '_vertex_size',\n",
       " '_vertex_symbol',\n",
       " '_view_class',\n",
       " '_visible',\n",
       " '_visual_ids',\n",
       " '_visual_superclass',\n",
       " '_vshare',\n",
       " 'add_subvisual',\n",
       " 'attach',\n",
       " 'border_color',\n",
       " 'bounds',\n",
       " 'canvas',\n",
       " 'children',\n",
       " 'clip_children',\n",
       " 'clipper',\n",
       " 'color',\n",
       " 'common_parent',\n",
       " 'describe_tree',\n",
       " 'detach',\n",
       " 'document',\n",
       " 'document_node',\n",
       " 'draw',\n",
       " 'events',\n",
       " 'freeze',\n",
       " 'get_transform',\n",
       " 'interactive',\n",
       " 'is_child',\n",
       " 'name',\n",
       " 'node_path',\n",
       " 'node_path_to_child',\n",
       " 'node_path_transforms',\n",
       " 'node_transform',\n",
       " 'on_parent_change',\n",
       " 'opacity',\n",
       " 'order',\n",
       " 'parent',\n",
       " 'parent_chain',\n",
       " 'picking',\n",
       " 'pos',\n",
       " 'remove_subvisual',\n",
       " 'root_node',\n",
       " 'scene_node',\n",
       " 'set_data',\n",
       " 'set_gl_state',\n",
       " 'set_transform',\n",
       " 'transform',\n",
       " 'transforms',\n",
       " 'unfreeze',\n",
       " 'update',\n",
       " 'update_gl_state',\n",
       " 'vertex_color',\n",
       " 'vertex_edge_color',\n",
       " 'view',\n",
       " 'visible']"
      ]
     },
     "execution_count": 7,
     "metadata": {},
     "output_type": "execute_result"
    }
   ],
   "source": [
    "dir(window.viewer.layers[-1]._node)"
   ]
  },
  {
   "cell_type": "code",
   "execution_count": null,
   "metadata": {},
   "outputs": [],
   "source": [
    "add_subvisual\n",
    "remove_subvisual\n",
    "_subvisuals"
   ]
  },
  {
   "cell_type": "code",
   "execution_count": null,
   "metadata": {},
   "outputs": [],
   "source": [
    "_subvisuals"
   ]
  },
  {
   "cell_type": "code",
   "execution_count": null,
   "metadata": {},
   "outputs": [],
   "source": []
  },
  {
   "cell_type": "markdown",
   "metadata": {},
   "source": [
    "### Add lines layer"
   ]
  },
  {
   "cell_type": "code",
   "execution_count": 4,
   "metadata": {},
   "outputs": [
    {
     "data": {
      "text/plain": [
       "<napari_gui.layers._lines_layer.Lines at 0x120fc1080>"
      ]
     },
     "execution_count": 4,
     "metadata": {},
     "output_type": "execute_result"
    }
   ],
   "source": [
    "#corner_list = array([[[200, 200], [50, 150]], [[300, 100], [400, 400]], [[100, 100], [110, 110]]])\n",
    "#window.viewer.add_lines(corner_list, edge_color='blue', vertex_color=None)"
   ]
  },
  {
   "cell_type": "markdown",
   "metadata": {},
   "source": [
    "## Create an empty window"
   ]
  },
  {
   "cell_type": "code",
   "execution_count": null,
   "metadata": {},
   "outputs": [],
   "source": [
    "from napari_gui import Window, Viewer\n",
    "viewer = Viewer()\n",
    "window = Window(viewer)"
   ]
  },
  {
   "cell_type": "markdown",
   "metadata": {},
   "source": [
    "### Add two images"
   ]
  },
  {
   "cell_type": "code",
   "execution_count": null,
   "metadata": {},
   "outputs": [],
   "source": [
    "viewer.add_image(data.camera(),{})\n",
    "viewer.add_image(data.camera(),{})"
   ]
  },
  {
   "cell_type": "markdown",
   "metadata": {},
   "source": [
    "### Add a third image layer"
   ]
  },
  {
   "cell_type": "code",
   "execution_count": null,
   "metadata": {},
   "outputs": [],
   "source": [
    "viewer.add_image(rgb2gray(data.astronaut()),{})"
   ]
  },
  {
   "cell_type": "markdown",
   "metadata": {},
   "source": [
    "### Add markers layers"
   ]
  },
  {
   "cell_type": "code",
   "execution_count": null,
   "metadata": {},
   "outputs": [],
   "source": [
    "marker_list = array([[100, 100], [200, 200], [333, 111]])\n",
    "viewer.add_markers(marker_list, size=array([10, 20, 20]))"
   ]
  },
  {
   "cell_type": "code",
   "execution_count": null,
   "metadata": {},
   "outputs": [],
   "source": [
    "marker_list = array([[200, 200], [50, 150], [100, 400]])\n",
    "viewer.add_markers(marker_list, size=10, face_color='blue')"
   ]
  },
  {
   "cell_type": "markdown",
   "metadata": {},
   "source": [
    "### Add bounding box layer"
   ]
  },
  {
   "cell_type": "code",
   "execution_count": null,
   "metadata": {},
   "outputs": [],
   "source": [
    "corner_list = array([[[200, 200], [50, 150]], [[300, 100], [400, 400]], [[100, 100], [110, 110]]])\n",
    "viewer.add_rectangles(corner_list, face_color='blue')"
   ]
  },
  {
   "cell_type": "markdown",
   "metadata": {},
   "source": [
    "### Reorder layers"
   ]
  },
  {
   "cell_type": "code",
   "execution_count": null,
   "metadata": {},
   "outputs": [],
   "source": [
    "viewer.layers.swap(0,1)"
   ]
  },
  {
   "cell_type": "code",
   "execution_count": null,
   "metadata": {},
   "outputs": [],
   "source": [
    "viewer.layers.swap(0,3)"
   ]
  },
  {
   "cell_type": "markdown",
   "metadata": {},
   "source": [
    "### Remove first layer"
   ]
  },
  {
   "cell_type": "code",
   "execution_count": null,
   "metadata": {},
   "outputs": [],
   "source": [
    "viewer.layers.pop(1)"
   ]
  },
  {
   "cell_type": "markdown",
   "metadata": {},
   "source": [
    "## Display a single color image"
   ]
  },
  {
   "cell_type": "code",
   "execution_count": null,
   "metadata": {},
   "outputs": [],
   "source": [
    "window = imshow(data.astronaut())"
   ]
  },
  {
   "cell_type": "markdown",
   "metadata": {},
   "source": [
    "## Display multidimensional images"
   ]
  },
  {
   "cell_type": "code",
   "execution_count": 2,
   "metadata": {},
   "outputs": [
    {
     "name": "stderr",
     "output_type": "stream",
     "text": [
      "/Users/nicholassofroniew/anaconda3/lib/python3.6/site-packages/vispy/visuals/isocurve.py:22: UserWarning: VisPy is not yet compatible with matplotlib 2.2+\n",
      "  warnings.warn(\"VisPy is not yet compatible with matplotlib 2.2+\")\n",
      "WARNING: Traceback (most recent call last):\n",
      "  File \"/Users/nicholassofroniew/anaconda3/lib/python3.6/runpy.py\", line 193, in _run_module_as_main\n",
      "    \"__main__\", mod_spec)\n",
      "  File \"/Users/nicholassofroniew/anaconda3/lib/python3.6/runpy.py\", line 85, in _run_code\n",
      "    exec(code, run_globals)\n",
      "  File \"/Users/nicholassofroniew/anaconda3/lib/python3.6/site-packages/ipykernel_launcher.py\", line 16, in <module>\n",
      "    app.launch_new_instance()\n",
      "  File \"/Users/nicholassofroniew/anaconda3/lib/python3.6/site-packages/traitlets/config/application.py\", line 658, in launch_instance\n",
      "    app.start()\n",
      "  File \"/Users/nicholassofroniew/anaconda3/lib/python3.6/site-packages/ipykernel/kernelapp.py\", line 499, in start\n",
      "    self.io_loop.start()\n",
      "  File \"/Users/nicholassofroniew/anaconda3/lib/python3.6/site-packages/tornado/platform/asyncio.py\", line 132, in start\n",
      "    self.asyncio_loop.run_forever()\n",
      "  File \"/Users/nicholassofroniew/anaconda3/lib/python3.6/asyncio/base_events.py\", line 422, in run_forever\n",
      "    self._run_once()\n",
      "  File \"/Users/nicholassofroniew/anaconda3/lib/python3.6/asyncio/base_events.py\", line 1432, in _run_once\n",
      "    handle._run()\n",
      "  File \"/Users/nicholassofroniew/anaconda3/lib/python3.6/asyncio/events.py\", line 145, in _run\n",
      "    self._callback(*self._args)\n",
      "  File \"/Users/nicholassofroniew/anaconda3/lib/python3.6/site-packages/tornado/ioloop.py\", line 758, in _run_callback\n",
      "    ret = callback()\n",
      "  File \"/Users/nicholassofroniew/anaconda3/lib/python3.6/site-packages/tornado/stack_context.py\", line 300, in null_wrapper\n",
      "    return fn(*args, **kwargs)\n",
      "  File \"/Users/nicholassofroniew/anaconda3/lib/python3.6/site-packages/ipykernel/kernelbase.py\", line 295, in advance_eventloop\n",
      "    eventloop(self)\n",
      "  File \"/Users/nicholassofroniew/anaconda3/lib/python3.6/site-packages/ipykernel/eventloops.py\", line 137, in loop_qt5\n",
      "    return loop_qt4(kernel)\n",
      "  File \"/Users/nicholassofroniew/anaconda3/lib/python3.6/site-packages/ipykernel/eventloops.py\", line 130, in loop_qt4\n",
      "    _loop_qt(kernel.app)\n",
      "  File \"/Users/nicholassofroniew/anaconda3/lib/python3.6/site-packages/ipykernel/eventloops.py\", line 114, in _loop_qt\n",
      "    app.exec_()\n",
      "  File \"/Users/nicholassofroniew/anaconda3/lib/python3.6/site-packages/vispy/app/backends/_qt.py\", line 436, in event\n",
      "    out = super(QtBaseCanvasBackend, self).event(ev)\n",
      "  File \"/Users/nicholassofroniew/anaconda3/lib/python3.6/site-packages/vispy/app/backends/_qt.py\", line 404, in mouseMoveEvent\n",
      "    modifiers=self._modifiers(ev),\n",
      "  File \"/Users/nicholassofroniew/anaconda3/lib/python3.6/site-packages/vispy/app/base.py\", line 208, in _vispy_mouse_move\n",
      "    ev = self._vispy_canvas.events.mouse_move(**kwargs)\n",
      "  File \"/Users/nicholassofroniew/anaconda3/lib/python3.6/site-packages/vispy/util/event.py\", line 455, in __call__\n",
      "    self._invoke_callback(cb, event)\n",
      "  File \"/Users/nicholassofroniew/anaconda3/lib/python3.6/site-packages/vispy/util/event.py\", line 475, in _invoke_callback\n",
      "    self, cb_event=(cb, event))\n",
      "  << caught exception here: >>\n",
      "  File \"/Users/nicholassofroniew/anaconda3/lib/python3.6/site-packages/vispy/util/event.py\", line 471, in _invoke_callback\n",
      "    cb(event)\n",
      "  File \"/Users/nicholassofroniew/Github/napari-gui/napari_gui/elements/qt/_viewer.py\", line 93, in on_mouse_move\n",
      "    shift=shift, ctrl=ctrl, pressed=False, released=False, moving=True)\n",
      "  File \"/Users/nicholassofroniew/Github/napari-gui/napari_gui/layers/_rectangles_layer.py\", line 594, in interact\n",
      "    self._add(self._create_tl, coord)\n",
      "  File \"/Users/nicholassofroniew/Github/napari-gui/napari_gui/layers/_rectangles_layer.py\", line 398, in _add\n",
      "    self.data = append(self.data, [[tl, br]], axis=0)\n",
      "  File \"/Users/nicholassofroniew/Github/napari-gui/napari_gui/layers/_rectangles_layer.py\", line 97, in data\n",
      "    self.coords = data\n",
      "  File \"/Users/nicholassofroniew/Github/napari-gui/napari_gui/layers/_rectangles_layer.py\", line 87, in coords\n",
      "    self._refresh()\n",
      "  File \"/Users/nicholassofroniew/Github/napari-gui/napari_gui/layers/_rectangles_layer.py\", line 185, in _refresh\n",
      "    self._update()\n",
      "  File \"/Users/nicholassofroniew/Github/napari-gui/napari_gui/layers/_rectangles_layer.py\", line 175, in _update\n",
      "    self._set_view_slice(self.viewer.dimensions.indices)\n",
      "  File \"/Users/nicholassofroniew/Github/napari-gui/napari_gui/layers/_rectangles_layer.py\", line 299, in _set_view_slice\n",
      "    self._set_highlight()\n",
      "  File \"/Users/nicholassofroniew/Github/napari-gui/napari_gui/layers/_rectangles_layer.py\", line 304, in _set_highlight\n",
      "    data = self._view_data[self._selected_shapes[0]].mean(axis=0)\n",
      "IndexError: index 10 is out of bounds for axis 0 with size 9\n",
      "ERROR: Invoking <bound method QtViewer.on_mouse_move of <napari_gui.elements.qt._viewer.QtViewer object at 0x12044ddc8>> for MouseEvent\n",
      "WARNING: Traceback (most recent call last):\n",
      "  File \"/Users/nicholassofroniew/anaconda3/lib/python3.6/runpy.py\", line 193, in _run_module_as_main\n",
      "    \"__main__\", mod_spec)\n",
      "  File \"/Users/nicholassofroniew/anaconda3/lib/python3.6/runpy.py\", line 85, in _run_code\n",
      "    exec(code, run_globals)\n",
      "  File \"/Users/nicholassofroniew/anaconda3/lib/python3.6/site-packages/ipykernel_launcher.py\", line 16, in <module>\n",
      "    app.launch_new_instance()\n",
      "  File \"/Users/nicholassofroniew/anaconda3/lib/python3.6/site-packages/traitlets/config/application.py\", line 658, in launch_instance\n",
      "    app.start()\n",
      "  File \"/Users/nicholassofroniew/anaconda3/lib/python3.6/site-packages/ipykernel/kernelapp.py\", line 499, in start\n",
      "    self.io_loop.start()\n",
      "  File \"/Users/nicholassofroniew/anaconda3/lib/python3.6/site-packages/tornado/platform/asyncio.py\", line 132, in start\n",
      "    self.asyncio_loop.run_forever()\n",
      "  File \"/Users/nicholassofroniew/anaconda3/lib/python3.6/asyncio/base_events.py\", line 422, in run_forever\n",
      "    self._run_once()\n",
      "  File \"/Users/nicholassofroniew/anaconda3/lib/python3.6/asyncio/base_events.py\", line 1432, in _run_once\n",
      "    handle._run()\n",
      "  File \"/Users/nicholassofroniew/anaconda3/lib/python3.6/asyncio/events.py\", line 145, in _run\n",
      "    self._callback(*self._args)\n",
      "  File \"/Users/nicholassofroniew/anaconda3/lib/python3.6/site-packages/tornado/ioloop.py\", line 758, in _run_callback\n",
      "    ret = callback()\n",
      "  File \"/Users/nicholassofroniew/anaconda3/lib/python3.6/site-packages/tornado/stack_context.py\", line 300, in null_wrapper\n",
      "    return fn(*args, **kwargs)\n",
      "  File \"/Users/nicholassofroniew/anaconda3/lib/python3.6/site-packages/ipykernel/kernelbase.py\", line 295, in advance_eventloop\n",
      "    eventloop(self)\n",
      "  File \"/Users/nicholassofroniew/anaconda3/lib/python3.6/site-packages/ipykernel/eventloops.py\", line 137, in loop_qt5\n",
      "    return loop_qt4(kernel)\n",
      "  File \"/Users/nicholassofroniew/anaconda3/lib/python3.6/site-packages/ipykernel/eventloops.py\", line 130, in loop_qt4\n",
      "    _loop_qt(kernel.app)\n",
      "  File \"/Users/nicholassofroniew/anaconda3/lib/python3.6/site-packages/ipykernel/eventloops.py\", line 114, in _loop_qt\n",
      "    app.exec_()\n",
      "  File \"/Users/nicholassofroniew/anaconda3/lib/python3.6/site-packages/vispy/app/backends/_qt.py\", line 436, in event\n",
      "    out = super(QtBaseCanvasBackend, self).event(ev)\n",
      "  File \"/Users/nicholassofroniew/anaconda3/lib/python3.6/site-packages/vispy/app/backends/_qt.py\", line 404, in mouseMoveEvent\n",
      "    modifiers=self._modifiers(ev),\n",
      "  File \"/Users/nicholassofroniew/anaconda3/lib/python3.6/site-packages/vispy/app/base.py\", line 208, in _vispy_mouse_move\n",
      "    ev = self._vispy_canvas.events.mouse_move(**kwargs)\n",
      "  File \"/Users/nicholassofroniew/anaconda3/lib/python3.6/site-packages/vispy/util/event.py\", line 455, in __call__\n",
      "    self._invoke_callback(cb, event)\n",
      "  File \"/Users/nicholassofroniew/anaconda3/lib/python3.6/site-packages/vispy/util/event.py\", line 475, in _invoke_callback\n",
      "    self, cb_event=(cb, event))\n",
      "  << caught exception here: >>\n",
      "  File \"/Users/nicholassofroniew/anaconda3/lib/python3.6/site-packages/vispy/util/event.py\", line 471, in _invoke_callback\n",
      "    cb(event)\n",
      "  File \"/Users/nicholassofroniew/Github/napari-gui/napari_gui/elements/qt/_viewer.py\", line 93, in on_mouse_move\n",
      "    shift=shift, ctrl=ctrl, pressed=False, released=False, moving=True)\n",
      "  File \"/Users/nicholassofroniew/Github/napari-gui/napari_gui/layers/_rectangles_layer.py\", line 594, in interact\n",
      "    self._add(self._create_tl, coord)\n",
      "  File \"/Users/nicholassofroniew/Github/napari-gui/napari_gui/layers/_rectangles_layer.py\", line 398, in _add\n",
      "    self.data = append(self.data, [[tl, br]], axis=0)\n",
      "  File \"/Users/nicholassofroniew/Github/napari-gui/napari_gui/layers/_rectangles_layer.py\", line 97, in data\n",
      "    self.coords = data\n",
      "  File \"/Users/nicholassofroniew/Github/napari-gui/napari_gui/layers/_rectangles_layer.py\", line 87, in coords\n",
      "    self._refresh()\n",
      "  File \"/Users/nicholassofroniew/Github/napari-gui/napari_gui/layers/_rectangles_layer.py\", line 185, in _refresh\n",
      "    self._update()\n",
      "  File \"/Users/nicholassofroniew/Github/napari-gui/napari_gui/layers/_rectangles_layer.py\", line 175, in _update\n",
      "    self._set_view_slice(self.viewer.dimensions.indices)\n",
      "  File \"/Users/nicholassofroniew/Github/napari-gui/napari_gui/layers/_rectangles_layer.py\", line 299, in _set_view_slice\n",
      "    self._set_highlight()\n",
      "  File \"/Users/nicholassofroniew/Github/napari-gui/napari_gui/layers/_rectangles_layer.py\", line 304, in _set_highlight\n",
      "    data = self._view_data[self._selected_shapes[0]].mean(axis=0)\n",
      "IndexError: index 10 is out of bounds for axis 0 with size 10\n"
     ]
    },
    {
     "name": "stderr",
     "output_type": "stream",
     "text": [
      "ERROR: Invoking <bound method QtViewer.on_mouse_move of <napari_gui.elements.qt._viewer.QtViewer object at 0x12044ddc8>> for MouseEvent\n",
      "WARNING: Traceback (most recent call last):\n",
      "  File \"/Users/nicholassofroniew/anaconda3/lib/python3.6/runpy.py\", line 193, in _run_module_as_main\n",
      "    \"__main__\", mod_spec)\n",
      "  File \"/Users/nicholassofroniew/anaconda3/lib/python3.6/runpy.py\", line 85, in _run_code\n",
      "    exec(code, run_globals)\n",
      "  File \"/Users/nicholassofroniew/anaconda3/lib/python3.6/site-packages/ipykernel_launcher.py\", line 16, in <module>\n",
      "    app.launch_new_instance()\n",
      "  File \"/Users/nicholassofroniew/anaconda3/lib/python3.6/site-packages/traitlets/config/application.py\", line 658, in launch_instance\n",
      "    app.start()\n",
      "  File \"/Users/nicholassofroniew/anaconda3/lib/python3.6/site-packages/ipykernel/kernelapp.py\", line 499, in start\n",
      "    self.io_loop.start()\n",
      "  File \"/Users/nicholassofroniew/anaconda3/lib/python3.6/site-packages/tornado/platform/asyncio.py\", line 132, in start\n",
      "    self.asyncio_loop.run_forever()\n",
      "  File \"/Users/nicholassofroniew/anaconda3/lib/python3.6/asyncio/base_events.py\", line 422, in run_forever\n",
      "    self._run_once()\n",
      "  File \"/Users/nicholassofroniew/anaconda3/lib/python3.6/asyncio/base_events.py\", line 1432, in _run_once\n",
      "    handle._run()\n",
      "  File \"/Users/nicholassofroniew/anaconda3/lib/python3.6/asyncio/events.py\", line 145, in _run\n",
      "    self._callback(*self._args)\n",
      "  File \"/Users/nicholassofroniew/anaconda3/lib/python3.6/site-packages/tornado/ioloop.py\", line 758, in _run_callback\n",
      "    ret = callback()\n",
      "  File \"/Users/nicholassofroniew/anaconda3/lib/python3.6/site-packages/tornado/stack_context.py\", line 300, in null_wrapper\n",
      "    return fn(*args, **kwargs)\n",
      "  File \"/Users/nicholassofroniew/anaconda3/lib/python3.6/site-packages/ipykernel/kernelbase.py\", line 295, in advance_eventloop\n",
      "    eventloop(self)\n",
      "  File \"/Users/nicholassofroniew/anaconda3/lib/python3.6/site-packages/ipykernel/eventloops.py\", line 137, in loop_qt5\n",
      "    return loop_qt4(kernel)\n",
      "  File \"/Users/nicholassofroniew/anaconda3/lib/python3.6/site-packages/ipykernel/eventloops.py\", line 130, in loop_qt4\n",
      "    _loop_qt(kernel.app)\n",
      "  File \"/Users/nicholassofroniew/anaconda3/lib/python3.6/site-packages/ipykernel/eventloops.py\", line 114, in _loop_qt\n",
      "    app.exec_()\n",
      "  File \"/Users/nicholassofroniew/anaconda3/lib/python3.6/site-packages/vispy/app/backends/_qt.py\", line 436, in event\n",
      "    out = super(QtBaseCanvasBackend, self).event(ev)\n",
      "  File \"/Users/nicholassofroniew/anaconda3/lib/python3.6/site-packages/vispy/app/backends/_qt.py\", line 404, in mouseMoveEvent\n",
      "    modifiers=self._modifiers(ev),\n",
      "  File \"/Users/nicholassofroniew/anaconda3/lib/python3.6/site-packages/vispy/app/base.py\", line 208, in _vispy_mouse_move\n",
      "    ev = self._vispy_canvas.events.mouse_move(**kwargs)\n",
      "  File \"/Users/nicholassofroniew/anaconda3/lib/python3.6/site-packages/vispy/util/event.py\", line 455, in __call__\n",
      "    self._invoke_callback(cb, event)\n",
      "  File \"/Users/nicholassofroniew/anaconda3/lib/python3.6/site-packages/vispy/util/event.py\", line 475, in _invoke_callback\n",
      "    self, cb_event=(cb, event))\n",
      "  << caught exception here: >>\n",
      "  File \"/Users/nicholassofroniew/anaconda3/lib/python3.6/site-packages/vispy/util/event.py\", line 471, in _invoke_callback\n",
      "    cb(event)\n",
      "  File \"/Users/nicholassofroniew/Github/napari-gui/napari_gui/elements/qt/_viewer.py\", line 93, in on_mouse_move\n",
      "    shift=shift, ctrl=ctrl, pressed=False, released=False, moving=True)\n",
      "  File \"/Users/nicholassofroniew/Github/napari-gui/napari_gui/layers/_rectangles_layer.py\", line 594, in interact\n",
      "    self._add(self._create_tl, coord)\n",
      "  File \"/Users/nicholassofroniew/Github/napari-gui/napari_gui/layers/_rectangles_layer.py\", line 400, in _add\n",
      "    self._refresh()\n",
      "  File \"/Users/nicholassofroniew/Github/napari-gui/napari_gui/layers/_rectangles_layer.py\", line 185, in _refresh\n",
      "    self._update()\n",
      "  File \"/Users/nicholassofroniew/Github/napari-gui/napari_gui/layers/_rectangles_layer.py\", line 175, in _update\n",
      "    self._set_view_slice(self.viewer.dimensions.indices)\n",
      "  File \"/Users/nicholassofroniew/Github/napari-gui/napari_gui/layers/_rectangles_layer.py\", line 299, in _set_view_slice\n",
      "    self._set_highlight()\n",
      "  File \"/Users/nicholassofroniew/Github/napari-gui/napari_gui/layers/_rectangles_layer.py\", line 304, in _set_highlight\n",
      "    data = self._view_data[self._selected_shapes[0]].mean(axis=0)\n",
      "IndexError: index 13 is out of bounds for axis 0 with size 11\n",
      "ERROR: Invoking <bound method QtViewer.on_mouse_move of <napari_gui.elements.qt._viewer.QtViewer object at 0x12044ddc8>> for MouseEvent\n",
      "WARNING: Traceback (most recent call last):\n",
      "  File \"/Users/nicholassofroniew/anaconda3/lib/python3.6/runpy.py\", line 193, in _run_module_as_main\n",
      "    \"__main__\", mod_spec)\n",
      "  File \"/Users/nicholassofroniew/anaconda3/lib/python3.6/runpy.py\", line 85, in _run_code\n",
      "    exec(code, run_globals)\n",
      "  File \"/Users/nicholassofroniew/anaconda3/lib/python3.6/site-packages/ipykernel_launcher.py\", line 16, in <module>\n",
      "    app.launch_new_instance()\n",
      "  File \"/Users/nicholassofroniew/anaconda3/lib/python3.6/site-packages/traitlets/config/application.py\", line 658, in launch_instance\n",
      "    app.start()\n",
      "  File \"/Users/nicholassofroniew/anaconda3/lib/python3.6/site-packages/ipykernel/kernelapp.py\", line 499, in start\n",
      "    self.io_loop.start()\n",
      "  File \"/Users/nicholassofroniew/anaconda3/lib/python3.6/site-packages/tornado/platform/asyncio.py\", line 132, in start\n",
      "    self.asyncio_loop.run_forever()\n",
      "  File \"/Users/nicholassofroniew/anaconda3/lib/python3.6/asyncio/base_events.py\", line 422, in run_forever\n",
      "    self._run_once()\n",
      "  File \"/Users/nicholassofroniew/anaconda3/lib/python3.6/asyncio/base_events.py\", line 1432, in _run_once\n",
      "    handle._run()\n",
      "  File \"/Users/nicholassofroniew/anaconda3/lib/python3.6/asyncio/events.py\", line 145, in _run\n",
      "    self._callback(*self._args)\n",
      "  File \"/Users/nicholassofroniew/anaconda3/lib/python3.6/site-packages/tornado/ioloop.py\", line 758, in _run_callback\n",
      "    ret = callback()\n",
      "  File \"/Users/nicholassofroniew/anaconda3/lib/python3.6/site-packages/tornado/stack_context.py\", line 300, in null_wrapper\n",
      "    return fn(*args, **kwargs)\n",
      "  File \"/Users/nicholassofroniew/anaconda3/lib/python3.6/site-packages/ipykernel/kernelbase.py\", line 295, in advance_eventloop\n",
      "    eventloop(self)\n",
      "  File \"/Users/nicholassofroniew/anaconda3/lib/python3.6/site-packages/ipykernel/eventloops.py\", line 137, in loop_qt5\n",
      "    return loop_qt4(kernel)\n",
      "  File \"/Users/nicholassofroniew/anaconda3/lib/python3.6/site-packages/ipykernel/eventloops.py\", line 130, in loop_qt4\n",
      "    _loop_qt(kernel.app)\n",
      "  File \"/Users/nicholassofroniew/anaconda3/lib/python3.6/site-packages/ipykernel/eventloops.py\", line 114, in _loop_qt\n",
      "    app.exec_()\n",
      "  File \"/Users/nicholassofroniew/anaconda3/lib/python3.6/site-packages/vispy/app/backends/_qt.py\", line 436, in event\n",
      "    out = super(QtBaseCanvasBackend, self).event(ev)\n",
      "  File \"/Users/nicholassofroniew/anaconda3/lib/python3.6/site-packages/vispy/app/backends/_qt.py\", line 385, in mouseReleaseEvent\n",
      "    modifiers=self._modifiers(ev),\n",
      "  File \"/Users/nicholassofroniew/anaconda3/lib/python3.6/site-packages/vispy/app/base.py\", line 216, in _vispy_mouse_release\n",
      "    ev = self._vispy_canvas.events.mouse_release(**kwargs)\n",
      "  File \"/Users/nicholassofroniew/anaconda3/lib/python3.6/site-packages/vispy/util/event.py\", line 455, in __call__\n",
      "    self._invoke_callback(cb, event)\n",
      "  File \"/Users/nicholassofroniew/anaconda3/lib/python3.6/site-packages/vispy/util/event.py\", line 475, in _invoke_callback\n",
      "    self, cb_event=(cb, event))\n",
      "  << caught exception here: >>\n",
      "  File \"/Users/nicholassofroniew/anaconda3/lib/python3.6/site-packages/vispy/util/event.py\", line 471, in _invoke_callback\n",
      "    cb(event)\n",
      "  File \"/Users/nicholassofroniew/Github/napari-gui/napari_gui/elements/qt/_viewer.py\", line 118, in on_mouse_release\n",
      "    shift=shift, ctrl=ctrl, pressed=False, released=True, moving=False)\n",
      "  File \"/Users/nicholassofroniew/Github/napari-gui/napari_gui/layers/_rectangles_layer.py\", line 607, in interact\n",
      "    self._add(coord)\n",
      "  File \"/Users/nicholassofroniew/Github/napari-gui/napari_gui/layers/_rectangles_layer.py\", line 398, in _add\n",
      "    self.data = append(self.data, [[tl, br]], axis=0)\n",
      "  File \"/Users/nicholassofroniew/Github/napari-gui/napari_gui/layers/_rectangles_layer.py\", line 97, in data\n",
      "    self.coords = data\n",
      "  File \"/Users/nicholassofroniew/Github/napari-gui/napari_gui/layers/_rectangles_layer.py\", line 87, in coords\n",
      "    self._refresh()\n",
      "  File \"/Users/nicholassofroniew/Github/napari-gui/napari_gui/layers/_rectangles_layer.py\", line 185, in _refresh\n",
      "    self._update()\n",
      "  File \"/Users/nicholassofroniew/Github/napari-gui/napari_gui/layers/_rectangles_layer.py\", line 175, in _update\n",
      "    self._set_view_slice(self.viewer.dimensions.indices)\n",
      "  File \"/Users/nicholassofroniew/Github/napari-gui/napari_gui/layers/_rectangles_layer.py\", line 299, in _set_view_slice\n",
      "    self._set_highlight()\n",
      "  File \"/Users/nicholassofroniew/Github/napari-gui/napari_gui/layers/_rectangles_layer.py\", line 304, in _set_highlight\n",
      "    data = self._view_data[self._selected_shapes[0]].mean(axis=0)\n",
      "IndexError: index 13 is out of bounds for axis 0 with size 12\n"
     ]
    },
    {
     "name": "stderr",
     "output_type": "stream",
     "text": [
      "ERROR: Invoking <bound method QtViewer.on_mouse_release of <napari_gui.elements.qt._viewer.QtViewer object at 0x12044ddc8>> for MouseEvent\n"
     ]
    }
   ],
   "source": [
    "from napari_gui import Window, Viewer\n",
    "viewer = Viewer()\n",
    "window = Window(viewer, show=False)\n",
    "viewer.add_image(random.rand(500, 500, 20, 10),{})\n",
    "viewer.add_image(random.rand(500, 500, 20, 10),{})\n",
    "#marker_list = array([[200, 200, 0, 0], [50, 150, 0, 0], [100, 400, 1, 0]])\n",
    "#viewer.add_markers(marker_list, size=10, face_color='blue')\n",
    "corner_list = array([[[200, 200, 0, 0], [50, 150, 0, 0]], [[300, 100, 0, 0], [400, 400, 0, 0]], [[100, 100, 1, 0], [110, 110, 1, 0]]])\n",
    "viewer.add_rectangles(corner_list, face_color='blue', edge_color='blue', vertex_color='blue')\n",
    "window.show()"
   ]
  },
  {
   "cell_type": "code",
   "execution_count": null,
   "metadata": {},
   "outputs": [],
   "source": []
  },
  {
   "cell_type": "code",
   "execution_count": null,
   "metadata": {},
   "outputs": [],
   "source": []
  },
  {
   "cell_type": "code",
   "execution_count": null,
   "metadata": {},
   "outputs": [],
   "source": []
  },
  {
   "cell_type": "code",
   "execution_count": 12,
   "metadata": {},
   "outputs": [],
   "source": [
    "tmp = corner_list\n",
    "from numpy import append\n",
    "tl = [0,0, 0, 0]\n",
    "br = [1, 1, 0, 0]\n",
    "xx = append(tmp, [[tl, br]], axis=0)"
   ]
  },
  {
   "cell_type": "code",
   "execution_count": 14,
   "metadata": {},
   "outputs": [
    {
     "data": {
      "text/plain": [
       "[3, 2]"
      ]
     },
     "execution_count": 14,
     "metadata": {},
     "output_type": "execute_result"
    }
   ],
   "source": [
    "[len(xx)-1, 2]"
   ]
  },
  {
   "cell_type": "code",
   "execution_count": 7,
   "metadata": {},
   "outputs": [],
   "source": [
    "coord = [0,0]\n",
    "tl = [2, 2, *coord[2:]]"
   ]
  },
  {
   "cell_type": "code",
   "execution_count": 8,
   "metadata": {},
   "outputs": [
    {
     "data": {
      "text/plain": [
       "[2, 2]"
      ]
     },
     "execution_count": 8,
     "metadata": {},
     "output_type": "execute_result"
    }
   ],
   "source": [
    "tl"
   ]
  },
  {
   "cell_type": "code",
   "execution_count": null,
   "metadata": {},
   "outputs": [],
   "source": []
  }
 ],
 "metadata": {
  "kernelspec": {
   "display_name": "Python 3",
   "language": "python",
   "name": "python3"
  },
  "language_info": {
   "codemirror_mode": {
    "name": "ipython",
    "version": 3
   },
   "file_extension": ".py",
   "mimetype": "text/x-python",
   "name": "python",
   "nbconvert_exporter": "python",
   "pygments_lexer": "ipython3",
   "version": "3.6.5"
  }
 },
 "nbformat": 4,
 "nbformat_minor": 2
}
